{
 "cells": [
  {
   "cell_type": "code",
   "execution_count": 2,
   "id": "a94651c1-4eff-4d94-82e5-5dc1b0b42916",
   "metadata": {},
   "outputs": [
    {
     "name": "stderr",
     "output_type": "stream",
     "text": [
      "Setting default log level to \"WARN\".\n",
      "To adjust logging level use sc.setLogLevel(newLevel). For SparkR, use setLogLevel(newLevel).\n",
      "24/11/14 12:52:05 WARN NativeCodeLoader: Unable to load native-hadoop library for your platform... using builtin-java classes where applicable\n"
     ]
    }
   ],
   "source": [
    "import pyspark\n",
    "from pyspark.sql import SparkSession\n",
    "import pyspark.sql.functions as F\n",
    "from pyspark.sql.window import Window\n",
    "from pprint import pprint\n",
    "\n",
    "conf = pyspark.SparkConf()\n",
    "spark = SparkSession.builder.config(conf=conf).getOrCreate()"
   ]
  },
  {
   "cell_type": "code",
   "execution_count": 20,
   "id": "c36a7c88-5780-4fdd-83c5-78f5dd072066",
   "metadata": {},
   "outputs": [],
   "source": [
    "# DATA QUALITY NOTES \n",
    "# 4011 in barcode means item not found\n",
    "# items_df.select(F.count('*'),F.sum(F.when(F.col('barcode')==4011, 1).otherwise(0))).show()\n",
    "\n",
    "# the major problem with raw reciepts is rewardsReceiptItemList column\n",
    "# contains an array of strucTypes that represents a line item\n",
    "# need to create a new 'item' table \n",
    "### 1) explodes the line items so it can be structures\n",
    "### 2) bridges the receipt table to the brands table using barcode\n",
    "\n",
    "# compare different price columns (which is more accruate, what is the difference)\n",
    "\n",
    "# compare item count to item\n",
    "# compare spend to by item \n",
    "\n",
    "# get rid of everything with a test brand\n",
    "\n",
    "# questions:\n",
    "# what is partnerItemId\n",
    "# what is test brand, what is brandCode\n",
    " # most recent (full?) month? (assuming we include pp)\n",
    "# receipts scanned, asking for a count of reciepts?\n",
    "# where exactly this data is being collected\n",
    "# where are the different item prices coming from"
   ]
  },
  {
   "cell_type": "code",
   "execution_count": 3,
   "id": "596a59e0-0f03-4c76-ad83-b2073928f3ed",
   "metadata": {},
   "outputs": [
    {
     "name": "stderr",
     "output_type": "stream",
     "text": [
      "                                                                                \r"
     ]
    },
    {
     "name": "stdout",
     "output_type": "stream",
     "text": [
      "raw: 1167\n",
      "unique and nonnull id: 1167\n",
      "unique and nonnull barcode: 1160\n",
      "+------------+---+\n",
      "|     barcode| ct|\n",
      "+------------+---+\n",
      "|511111204923|  2|\n",
      "|511111504788|  2|\n",
      "|511111004790|  2|\n",
      "|511111605058|  2|\n",
      "|511111305125|  2|\n",
      "|511111704140|  2|\n",
      "|511111504139|  2|\n",
      "|511111501985|  1|\n",
      "|511111603641|  1|\n",
      "|511111208532|  1|\n",
      "|511111503255|  1|\n",
      "|511111203605|  1|\n",
      "|511111115083|  1|\n",
      "|511111818304|  1|\n",
      "|511111915638|  1|\n",
      "|511111617419|  1|\n",
      "|511111017943|  1|\n",
      "|511111205500|  1|\n",
      "|511111519713|  1|\n",
      "|511111005377|  1|\n",
      "+------------+---+\n",
      "only showing top 20 rows\n",
      "\n",
      "+--------------------+------------+----------+--------+------------+--------------------+---------+--------+\n",
      "|                 _id|     barcode| brandCode|category|categoryCode|               cpgId|     name|topBrand|\n",
      "+--------------------+------------+----------+--------+------------+--------------------+---------+--------+\n",
      "|5c45f91b87ff3552f...|511111204923|0987654321| Grocery|        NULL|5c45f8b087ff3552f...|   Brand1|    true|\n",
      "|5d6027f46d5f3b23d...|511111204923|  CHESTERS|  Snacks|        NULL|5332f5fbe4b03c9a2...|CHESTER'S|    NULL|\n",
      "+--------------------+------------+----------+--------+------------+--------------------+---------+--------+\n",
      "\n",
      "unique and nonnull id in cpg_df: 204\n",
      "+------------------------+------------+-----------------------------+--------------------+--------------------+------------------------+-------------------------+--------+\n",
      "|_id                     |barcode     |brandCode                    |category            |categoryCode        |cpgId                   |name                     |topBrand|\n",
      "+------------------------+------------+-----------------------------+--------------------+--------------------+------------------------+-------------------------+--------+\n",
      "|601ac115be37ce2ead437551|511111019862|NULL                         |Baking              |BAKING              |601ac114be37ce2ead437550|test brand @1612366101024|false   |\n",
      "|601c5460be37ce2ead43755f|511111519928|STARBUCKS                    |Beverages           |BEVERAGES           |5332f5fbe4b03c9a25efd0ba|Starbucks                |false   |\n",
      "|601ac142be37ce2ead43755d|511111819905|TEST BRANDCODE @1612366146176|Baking              |BAKING              |601ac142be37ce2ead437559|test brand @1612366146176|false   |\n",
      "|601ac142be37ce2ead43755a|511111519874|TEST BRANDCODE @1612366146051|Baking              |BAKING              |601ac142be37ce2ead437559|test brand @1612366146051|false   |\n",
      "|601ac142be37ce2ead43755e|511111319917|TEST BRANDCODE @1612366146827|Candy & Sweets      |CANDY_AND_SWEETS    |5332fa12e4b03c9a25efd1e7|test brand @1612366146827|false   |\n",
      "|601ac142be37ce2ead43755b|511111719885|TEST BRANDCODE @1612366146091|Baking              |BAKING              |601ac142be37ce2ead437559|test brand @1612366146091|false   |\n",
      "|601ac142be37ce2ead43755c|511111219897|TEST BRANDCODE @1612366146133|Baking              |BAKING              |601ac142be37ce2ead437559|test brand @1612366146133|false   |\n",
      "|5cdad0f5166eb33eb7ce0faa|511111104810|J.L. KRAFT                   |Condiments & Sauces |NULL                |559c2234e4b06aca36af13c6|J.L. Kraft               |NULL    |\n",
      "|5ab15636e4b0be0a89bb0b07|511111504412|CAMPBELLS HOME STYLE         |Canned Goods & Soups|NULL                |5a734034e4b0d58f376be874|Campbell's Home Style    |false   |\n",
      "|5c408e8bcd244a1fdb47aee7|511111504788|TEST                         |Baking              |NULL                |59ba6f1ce4b092b29c167346|test                     |NULL    |\n",
      "|5f4bf556be37ce0b4491554d|511111516354|TEST BRANDCODE @1598813526777|Baking              |BAKING              |5f4bf556be37ce0b44915549|test brand @1598813526777|NULL    |\n",
      "|57c08106e4b0718ff5fcb02c|511111102540|NULL                         |NULL                |NULL                |5332f5f2e4b03c9a25efd0aa|MorningStar              |NULL    |\n",
      "|588ba07be4b02187f85cdadd|511111201076|CALUMET                      |Baking              |NULL                |559c2234e4b06aca36af13c6|Calumet                  |false   |\n",
      "|5d6413156d5f3b23d1bc790a|511111205012|511111205012                 |Magazines           |NULL                |5d5d4fd16d5f3b23d1bc7905|Entertainment Weekly     |NULL    |\n",
      "|585a9611e4b03e62d1ce0e74|511111801801|AUNT JEMIMA SYRUP            |Breakfast & Cereal  |NULL                |5332f5fbe4b03c9a25efd0ba|AUNT JEMIMA Syrup        |false   |\n",
      "|57e5820ce4b0ac389136a311|511111202233|MOLSON                       |Beer Wine Spirits   |NULL                |5332f709e4b03c9a25efd0f1|Molson Canadian          |false   |\n",
      "|5fb6adb8be37ce522e165cb8|511111817376|LOTRIMIN                     |Health & Wellness   |HEALTHY_AND_WELLNESS|5d9b4f591dda2c6225a284aa|Lotrimin®                |false   |\n",
      "|5f358338be37ce443bf9d55a|511111515319|TEST BRANDCODE @1597342520277|Baking              |BAKING              |5f358338be37ce443bf9d557|test brand @1597342520277|NULL    |\n",
      "|5fb28549be37ce522e165cb5|511111317364|NULL                         |Baking              |BAKING              |5fb28549be37ce522e165cb4|test brand @1605535049181|false   |\n",
      "|592486bfe410d61fcea3d139|511111300700|ST IVES                      |Beauty              |NULL                |5332f5f6e4b03c9a25efd0b4|ST. IVES                 |false   |\n",
      "+------------------------+------------+-----------------------------+--------------------+--------------------+------------------------+-------------------------+--------+\n",
      "only showing top 20 rows\n",
      "\n",
      "+--------------------+------+\n",
      "|                 _id|cpgRef|\n",
      "+--------------------+------+\n",
      "|5f358338be37ce443...|  Cogs|\n",
      "|5f3ff200be37ce1c8...|  Cogs|\n",
      "|5ffe2ce0be37ce5e0...|  Cogs|\n",
      "|5fda3711be37ce09e...|  Cogs|\n",
      "|5f513e9ebe37ce21f...|  Cogs|\n",
      "|5f494cf904db711dd...|  Cogs|\n",
      "|5f441281be37ce5db...|  Cogs|\n",
      "|5f494c5d04db711dd...|  Cogs|\n",
      "|5332f734e4b03c9a2...|  Cpgs|\n",
      "|537b7ec2892471241...|  Cpgs|\n",
      "|5ffe2ca0be37ce5e0...|  Cogs|\n",
      "|5ff3842abe37ce2c5...|  Cogs|\n",
      "|5f403232be37ce5f7...|  Cogs|\n",
      "|5fdce9cabe37ce5fa...|  Cogs|\n",
      "|5fd3ae1fbe37ce0d9...|  Cogs|\n",
      "|559c2234e4b06aca3...|  Cogs|\n",
      "|5f7ba914be37ce2f2...|  Cogs|\n",
      "|5ffe347ebe37ce5e0...|  Cogs|\n",
      "|53501d2ab9237fd77...|  Cpgs|\n",
      "|5ffe3686be37ce5e0...|  Cogs|\n",
      "+--------------------+------+\n",
      "only showing top 20 rows\n",
      "\n"
     ]
    }
   ],
   "source": [
    "brands_json = \"data/brands.json\"\n",
    "\n",
    "df = spark.read.json(brands_json)\n",
    "print(f'raw: {df.count()}')\n",
    "\n",
    "brands_df = df.select(\n",
    "    F.col(\"_id.$oid\").alias(\"_id\"),\n",
    "    F.col(\"barcode\"),\n",
    "    F.col(\"brandCode\"),\n",
    "    F.col(\"category\"),\n",
    "    F.col(\"categoryCode\"),\n",
    "    F.col(\"cpg.$id.$oid\").alias(\"cpgId\"),\n",
    "    F.col(\"name\"),\n",
    "    F.col(\"topBrand\"),\n",
    ")\n",
    "# .withColumn('test', F.col('cpgId') == F.col('_id'))\n",
    "cpg_df = df.select(\n",
    "    F.col(\"cpg.$id.$oid\").alias(\"_id\"),\n",
    "    F.col(\"cpg.$ref\").alias(\"cpgRef\"),).distinct()\n",
    "\n",
    "# check ids are unique and non null by counting compared to count earlier\n",
    "print(f'unique and nonnull id: {brands_df.select('_id').where(F.col('_id').isNotNull()).distinct().count()}')\n",
    "\n",
    "# check barcodes are unique and non null by counting compared to count earlier\n",
    "print(f'unique and nonnull barcode: {brands_df.select('barcode').where(F.col('barcode').isNotNull()).distinct().count()}')\n",
    "brands_df.groupBy('barcode').agg(F.count('*').alias('ct')).orderBy(F.col('ct').desc()).show()\n",
    "brands_df.where(F.col('barcode') =='511111204923' ).show()\n",
    "\n",
    "# # system relies that barcode is unique (criteria to be used as FK in another table)\n",
    "# assert brands_df.where(F.col('barcode').isNotNull()).distinct().count()/brands_df.count() == 1, 'col barcode must be unique'\n",
    "\n",
    "\n",
    "# check ids are unique and non null by counting compared to count earlier\n",
    "print(f'unique and nonnull id in cpg_df: {cpg_df.where(F.col('_id').isNotNull()).distinct().count()}')\n",
    "\n",
    "brands_df.show(truncate = False)\n",
    "cpg_df.show()"
   ]
  },
  {
   "cell_type": "code",
   "execution_count": 4,
   "id": "cf19f62e-d685-4d4c-a7fc-bd77663b24d5",
   "metadata": {},
   "outputs": [
    {
     "name": "stderr",
     "output_type": "stream",
     "text": [
      "24/11/14 12:52:23 WARN SparkStringUtils: Truncated the string representation of a plan since it was too large. This behavior can be adjusted by setting 'spark.sql.debug.maxToStringFields'.\n"
     ]
    },
    {
     "name": "stdout",
     "output_type": "stream",
     "text": [
      "raw: 1167\n",
      "+--------------------+-----------------+-----------------------+-------------------+-------------------+-------------------+-------------------+-------------------+------------+-------------------+------------------+--------------------+----------+--------------------+\n",
      "|                 _id|bonusPointsEarned|bonusPointsEarnedReason|         createDate|        dateScanned|       finishedDate|         modifyDate|  pointsAwardedDate|pointsEarned|       purchaseDate|purchasedItemCount|rewardsReceiptStatus|totalSpent|              userId|\n",
      "+--------------------+-----------------+-----------------------+-------------------+-------------------+-------------------+-------------------+-------------------+------------+-------------------+------------------+--------------------+----------+--------------------+\n",
      "|5ff1e1eb0a720f052...|              500|   Receipt number 2 ...|2021-01-03 10:25:31|2021-01-03 10:25:31|2021-01-03 10:25:31|2021-01-03 10:25:36|2021-01-03 10:25:31|       500.0|2021-01-02 19:00:00|                 5|            FINISHED|     26.00|5ff1e1eacfcf6c399...|\n",
      "|5ff1e1bb0a720f052...|              150|   Receipt number 5 ...|2021-01-03 10:24:43|2021-01-03 10:24:43|2021-01-03 10:24:43|2021-01-03 10:24:48|2021-01-03 10:24:43|       150.0|2021-01-02 10:24:43|                 2|            FINISHED|     11.00|5ff1e194b6a9d73a3...|\n",
      "|5ff1e1f10a720f052...|                5|   All-receipts rece...|2021-01-03 10:25:37|2021-01-03 10:25:37|               NULL|2021-01-03 10:25:42|               NULL|           5|2021-01-02 19:00:00|                 1|            REJECTED|     10.00|5ff1e1f1cfcf6c399...|\n",
      "|5ff1e1ee0a7214ada...|                5|   All-receipts rece...|2021-01-03 10:25:34|2021-01-03 10:25:34|2021-01-03 10:25:34|2021-01-03 10:25:39|2021-01-03 10:25:34|         5.0|2021-01-02 19:00:00|                 4|            FINISHED|     28.00|5ff1e1eacfcf6c399...|\n",
      "|5ff1e1d20a7214ada...|                5|   All-receipts rece...|2021-01-03 10:25:06|2021-01-03 10:25:06|2021-01-03 10:25:11|2021-01-03 10:25:11|2021-01-03 10:25:06|         5.0|2021-01-02 10:25:06|                 2|            FINISHED|      1.00|5ff1e194b6a9d73a3...|\n",
      "|5ff1e1e40a7214ada...|              750|   Receipt number 1 ...|2021-01-03 10:25:24|2021-01-03 10:25:24|2021-01-03 10:25:25|2021-01-03 10:25:30|2021-01-03 10:25:25|       750.0|2021-01-02 10:25:24|                 1|            FINISHED|      3.25|5ff1e1e4cfcf6c399...|\n",
      "|5ff1e1cd0a720f052...|                5|   All-receipts rece...|2021-01-03 10:25:01|2021-01-03 10:25:01|2021-01-03 10:25:02|2021-01-03 10:25:02|2021-01-03 10:25:02|         5.0|2021-01-03 10:25:01|                 1|            FINISHED|      2.23|5ff1e194b6a9d73a3...|\n",
      "|5ff1e1a40a720f052...|              500|   Receipt number 2 ...|2021-01-03 10:24:20|2021-01-03 10:24:20|2021-01-03 10:24:21|2021-01-03 10:24:21|2021-01-03 10:24:21|       500.0|2020-12-26 19:00:00|                 1|            FINISHED|     10.00|5ff1e194b6a9d73a3...|\n",
      "|5ff1e1ed0a7214ada...|                5|   All-receipts rece...|2021-01-03 10:25:33|2021-01-03 10:25:33|2021-01-03 10:25:34|2021-01-03 10:25:38|2021-01-03 10:25:34|         5.0|2021-01-02 19:00:00|                 5|            FINISHED|     20.00|5ff1e1eacfcf6c399...|\n",
      "|5ff1e1eb0a7214ada...|              250|   Receipt number 3 ...|2021-01-03 10:25:31|2021-01-03 10:25:31|2021-01-03 10:25:31|2021-01-03 10:25:36|2021-01-03 10:25:31|       250.0|2021-01-02 19:00:00|                 3|            FINISHED|     20.00|5ff1e1eacfcf6c399...|\n",
      "|5ff1e1c50a720f052...|              100|   Receipt number 6 ...|2021-01-03 10:24:53|2021-01-03 10:24:53|2021-01-03 10:24:53|2021-01-03 10:24:53|2021-01-03 10:24:53|       100.0|2021-01-02 10:24:53|                 1|            FINISHED|      1.00|5ff1e194b6a9d73a3...|\n",
      "|5ff1e1a10a720f052...|              750|   Receipt number 1 ...|2021-01-03 10:24:17|2021-01-03 10:24:17|2021-01-03 10:39:20|2021-01-03 10:39:20|2021-01-03 10:24:19|       750.0|2021-01-01 19:00:00|                 5|            FINISHED|     50.00|5ff1e194b6a9d73a3...|\n",
      "|5ff1e1b60a7214ada...|              150|   Receipt number 5 ...|2021-01-03 10:24:38|2021-01-03 10:24:38|               NULL|2021-01-03 10:24:38|               NULL|      8850.0|2021-02-03 10:24:38|                10|             FLAGGED|    290.00|5ff1e194b6a9d73a3...|\n",
      "|5f9c74f70a7214ad0...|              750|   Receipt number 1 ...|2020-10-30 16:17:59|2020-10-30 16:17:59|               NULL|2021-01-03 10:24:54|2020-10-30 16:18:00|       750.0|2020-10-29 16:17:59|                11|            REJECTED|      1.00|5f9c74f7c88c1415c...|\n",
      "|5ff1e1b20a7214ada...|              300|   Receipt number 4 ...|2021-01-03 10:24:34|2021-01-03 10:24:34|2021-01-03 10:24:35|2021-01-03 10:24:35|2021-01-03 10:24:35|       300.0|2021-02-03 10:24:35|                 1|            FINISHED|      1.00|5ff1e194b6a9d73a3...|\n",
      "|5ff1e1e90a7214ada...|             NULL|                   NULL|2021-01-03 10:25:29|2021-01-03 10:25:29|               NULL|2021-01-03 10:25:29|               NULL|        NULL|               NULL|                 0|             FLAGGED|      0.00|5ff1e1e9b6a9d73a3...|\n",
      "|5ff1e1df0a7214ada...|              750|   Receipt number 1 ...|2021-01-03 10:25:19|2021-01-03 10:25:19|2021-01-03 10:25:20|2021-01-03 10:25:25|2021-01-03 10:25:19|       750.0|2021-01-02 10:25:19|                 2|            FINISHED|     11.00|5ff1e1dfcfcf6c399...|\n",
      "|5ff1e1b40a7214ada...|              750|   Receipt number 1 ...|2021-01-03 10:24:36|2021-01-03 10:24:36|               NULL|2021-01-03 10:24:37|2021-01-03 10:24:36|       750.0|2021-01-02 10:24:36|                 1|             FLAGGED|      1.00|5ff1e1b4cfcf6c399...|\n",
      "|5ff1e1eb0a720f052...|              300|   Receipt number 4 ...|2021-01-03 10:25:31|2021-01-03 10:25:31|2021-01-03 10:25:32|2021-01-03 10:25:36|2021-01-03 10:25:32|       300.0|2021-01-02 19:00:00|                 2|            FINISHED|     26.00|5ff1e1eacfcf6c399...|\n",
      "|5ff1e1c80a720f052...|                5|   All-receipts rece...|2021-01-03 10:24:56|2021-01-03 10:24:56|2021-01-03 10:25:02|2021-01-03 10:25:02|2021-01-03 10:24:56|         5.0|2021-01-02 10:24:56|                 2|            FINISHED|      1.00|5ff1e194b6a9d73a3...|\n",
      "+--------------------+-----------------+-----------------------+-------------------+-------------------+-------------------+-------------------+-------------------+------------+-------------------+------------------+--------------------+----------+--------------------+\n",
      "only showing top 20 rows\n",
      "\n",
      "+--------------------+--------------------+\n",
      "|         item_struct|           receiptId|\n",
      "+--------------------+--------------------+\n",
      "|{4011, NULL, NULL...|5ff1e1eb0a720f052...|\n",
      "|{4011, NULL, NULL...|5ff1e1bb0a720f052...|\n",
      "|{028400642255, NU...|5ff1e1bb0a720f052...|\n",
      "|{NULL, NULL, NULL...|5ff1e1f10a720f052...|\n",
      "|{4011, NULL, NULL...|5ff1e1ee0a7214ada...|\n",
      "|{4011, NULL, NULL...|5ff1e1d20a7214ada...|\n",
      "|{1234, NULL, NULL...|5ff1e1d20a7214ada...|\n",
      "|{4011, NULL, NULL...|5ff1e1e40a7214ada...|\n",
      "|{NULL, MISSION, N...|5ff1e1cd0a720f052...|\n",
      "|{046000832517, BR...|5ff1e1a40a720f052...|\n",
      "|{4011, NULL, NULL...|5ff1e1ed0a7214ada...|\n",
      "|{4011, NULL, NULL...|5ff1e1eb0a7214ada...|\n",
      "|{4011, NULL, NULL...|5ff1e1c50a720f052...|\n",
      "|{013562300631, NU...|5ff1e1a10a720f052...|\n",
      "|{034100573065, NU...|5ff1e1b60a7214ada...|\n",
      "|{034100573065, NU...|5ff1e1b60a7214ada...|\n",
      "|{034100573065, NU...|5ff1e1b60a7214ada...|\n",
      "|{034100573065, NU...|5ff1e1b60a7214ada...|\n",
      "|{034100573065, NU...|5ff1e1b60a7214ada...|\n",
      "|{034100573065, NU...|5ff1e1b60a7214ada...|\n",
      "+--------------------+--------------------+\n",
      "only showing top 20 rows\n",
      "\n",
      "barcode: 0.44518080968160206\n",
      "brandCode: 0.37458579455409885\n",
      "competitiveProduct: 0.09292609134130529\n",
      "competitorRewardsGroup: 0.039619651347068144\n",
      "deleted: 0.0012966431349949576\n",
      "description: 0.9451087739518801\n",
      "discountedItemPrice: 0.8311482495317678\n",
      "finalPrice: 0.9749315660567641\n",
      "itemNumber: 0.022042933294914278\n",
      "itemPrice: 0.9749315660567641\n",
      "metabriteCampaignId: 0.12433366950007203\n",
      "needsFetchReview: 0.11713009652787783\n",
      "needsFetchReviewReason: 0.03155164961821063\n",
      "originalFinalPrice: 0.0012966431349949576\n",
      "originalMetaBriteBarcode: 0.010229073620515776\n",
      "originalMetaBriteDescription: 0.0014407145944388417\n",
      "originalMetaBriteItemPrice: 0.0012966431349949576\n",
      "originalMetaBriteQuantityPurchased: 0.0021610718916582625\n",
      "originalReceiptItemText: 0.8298516063967728\n",
      "partnerItemId: 1.0\n",
      "pointsEarned: 0.13355424290448062\n",
      "pointsNotAwardedReason: 0.04898429621092062\n",
      "pointsPayerId: 0.18253853911540124\n",
      "preventTargetGapPoints: 0.05157758248091053\n",
      "priceAfterCoupon: 0.13773231522835327\n",
      "quantityPurchased: 0.9749315660567641\n",
      "rewardsGroup: 0.2493876962973635\n",
      "rewardsProductPartnerId: 0.3268981414781732\n",
      "targetPrice: 0.05445901166978821\n",
      "userFlaggedBarcode: 0.04855208183258897\n",
      "userFlaggedDescription: 0.029534649185996253\n",
      "userFlaggedNewItem: 0.04653508140037459\n",
      "userFlaggedPrice: 0.043077366373721365\n",
      "userFlaggedQuantity: 0.043077366373721365\n",
      "total: 6941\n",
      "+--------------------+--------------------+------------+-----------------+--------------------+-------------------+----------+---------+--------------------+----------------+-----------------------+-------------+------------+--------------------+----------------+-----------------+--------------------+-----------------------+\n",
      "|                 _id|           receiptId|     barcode|        brandCode|         description|discountedItemPrice|finalPrice|itemPrice| metabriteCampaignId|needsFetchReview|originalReceiptItemText|partnerItemId|pointsEarned|       pointsPayerId|priceAfterCoupon|quantityPurchased|        rewardsGroup|rewardsProductPartnerId|\n",
      "+--------------------+--------------------+------------+-----------------+--------------------+-------------------+----------+---------+--------------------+----------------+-----------------------+-------------+------------+--------------------+----------------+-----------------+--------------------+-----------------------+\n",
      "|5ff1e1a40a720f052...|5ff1e1a40a720f052...|046000832517|            BRAND|Old El Paso Mild ...|               NULL|     10.00|    10.00|                NULL|            NULL|                   NULL|            0|        NULL|5332f5f3e4b03c9a2...|            NULL|                1|OLD EL PASO BEANS...|   5332f5f3e4b03c9a2...|\n",
      "|5ff1e1cd0a720f052...|5ff1e1cd0a720f052...|        NULL|          MISSION|        MSSN TORTLLA|               2.23|      2.23|     2.23|                NULL|            NULL|           MSSN TORTLLA|         1009|        NULL|                NULL|            NULL|                1|                NULL|                   NULL|\n",
      "|5ff29be20a7214ada...|5ff29be20a7214ada...|044000000745|KRAFT EASY CHEESE|            -Cheddar|               1.00|      1.00|     1.00|                NULL|            NULL|                   NULL|         1030|        NULL|                NULL|            NULL|                1|SARGENTO RICOTTA ...|   5e7cf838f221c312e...|\n",
      "|5ff618e30a7214ada...|5ff618e30a7214ada...|012000809941|            PEPSI|REGULAR PEPSI SOD...|               1.96|      1.96|     1.96| PEPSI 12 OZ 12 PACK|            NULL|   PEPSI COLA, 12 OZ...|         1016|        NULL|5332f5fbe4b03c9a2...|            NULL|                2| PEPSI 12 OZ 12 PACK|   5332f5fbe4b03c9a2...|\n",
      "|5ff618e30a7214ada...|5ff618e30a7214ada...|028400642033|          DORITOS|DORITOS TORTILLA ...|               6.90|      6.90|     6.90|DORITOS NACHO CHE...|            NULL|   DORITOS NACHO CHE...|         1022|        NULL|5332f5fbe4b03c9a2...|            NULL|                2|DORITOS NACHO CHE...|   5332f5fbe4b03c9a2...|\n",
      "|5ff618e30a7214ada...|5ff618e30a7214ada...|036000391718|          KLEENEX|KLEENEX POP UP RE...|               4.31|      4.31|     4.31|KLEENEX TRUSTED C...|            NULL|   KLEENEX TRUSTED C...|         1025|        43.1|550b2565e4b001d5e...|            NULL|                1|KLEENEX TRUSTED C...|   550b2565e4b001d5e...|\n",
      "|5ff73bdb0a720f052...|5ff73bdb0a720f052...|021908236865|            BRAND|Goodbelly Probiot...|               NULL|     10.00|    10.00|                NULL|            NULL|                   NULL|            0|        NULL|5332f5f3e4b03c9a2...|            NULL|                1|      GOODBELLY BARS|   5332f5f3e4b03c9a2...|\n",
      "|5ff774200a7214ada...|5ff774200a7214ada...|        NULL|         WINGSTOP|  10 CLASSIC COMBO J|               3.09|      3.09|     3.09|                NULL|            NULL|     10 CLASSIC COMBO J|         1011|        NULL|                NULL|            NULL|                1|                NULL|                   NULL|\n",
      "|5ff774200a7214ada...|5ff774200a7214ada...|        NULL|         WINGSTOP|  12 CLASSIC COMBO J|               3.09|      3.09|     3.09|                NULL|            NULL|     12 CLASSIC COMBO J|         1010|        NULL|                NULL|            NULL|                1|                NULL|                   NULL|\n",
      "|5ff8740c0a720f052...|5ff8740c0a720f052...|016000156234|            BRAND|Fiber One Oats & ...|               NULL|     10.00|    10.00|                NULL|            NULL|                   NULL|            0|        NULL|5332f5f3e4b03c9a2...|            NULL|                1|      FIBER ONE BARS|   5332f5f3e4b03c9a2...|\n",
      "|5ff874170a7214ada...|5ff874170a7214ada...|016000156234|            BRAND|Fiber One Oats & ...|               NULL|     10.00|    10.00|                NULL|            NULL|                   NULL|            0|        NULL|5332f5f3e4b03c9a2...|            NULL|                1|      FIBER ONE BARS|   5332f5f3e4b03c9a2...|\n",
      "|5ff8c3a20a7214adc...|5ff8c3a20a7214adc...|089203700016|            BRAND|PURE LEAF CHAMOMI...|               NULL|     10.00|    10.00|                NULL|            NULL|                   NULL|            0|       100.0|5332f5f6e4b03c9a2...|            NULL|                1|       PURE LEAF TEA|   5332f5f6e4b03c9a2...|\n",
      "|5ff8c4fb0a7214adc...|5ff8c4fb0a7214adc...|001111132666|            BRAND|DOVE MEN PLUS CAR...|               NULL|     10.00|    10.00|                NULL|            NULL|                   NULL|            0|       100.0|5332f5f6e4b03c9a2...|            NULL|                1|DOVE MEN+CARE BOD...|   5332f5f6e4b03c9a2...|\n",
      "|5ff8c8880a7214adc...|5ff8c8880a7214adc...|        NULL|         WINGSTOP|  10 CLASSIC COMBO J|               3.09|      3.09|     3.09|                NULL|            NULL|     10 CLASSIC COMBO J|         1011|        NULL|                NULL|            NULL|                1|                NULL|                   NULL|\n",
      "|5ff8c8880a7214adc...|5ff8c8880a7214adc...|        NULL|         WINGSTOP|  12 CLASSIC COMBO J|               3.09|      3.09|     3.09|                NULL|            NULL|     12 CLASSIC COMBO J|         1010|        NULL|                NULL|            NULL|                1|                NULL|                   NULL|\n",
      "|5ff8da390a7214adc...|5ff8da390a7214adc...|305210154278|            BRAND|VASELINE COCOA BU...|               NULL|     10.00|    10.00|                NULL|            NULL|                   NULL|            0|       100.0|5332f5f6e4b03c9a2...|            NULL|                1|VASELINE HAND AND...|   5332f5f6e4b03c9a2...|\n",
      "|5ffc8cb40a720f05c...|5ffc8cb40a720f05c...|        NULL|         WINGSTOP|  12 CLASSIC COMBO J|               3.09|      3.09|     3.09|                NULL|            NULL|     12 CLASSIC COMBO J|         1009|        NULL|                NULL|            NULL|                1|                NULL|                   NULL|\n",
      "|5ffc8cc20a720f05c...|5ffc8cc20a720f05c...|        NULL|         WINGSTOP|  12 CLASSIC COMBO J|               3.09|      3.09|     3.09|                NULL|            NULL|     12 CLASSIC COMBO J|         1009|        NULL|                NULL|            NULL|                1|                NULL|                   NULL|\n",
      "|5ffc8fa90a720f05c...|5ffc8fa90a720f05c...|        NULL|          MISSION|        MSSN TORTLLA|               2.23|      2.23|     2.23|                NULL|            NULL|           MSSN TORTLLA|         1009|        NULL|                NULL|            NULL|                1|                NULL|                   NULL|\n",
      "|5ffc92a20a7214adc...|5ffc92a20a7214adc...|        NULL|         WINGSTOP|        FILL UP MEAL|               3.09|      3.09|     3.09|                NULL|            NULL|           FILL UP MEAL|         1009|        NULL|                NULL|            NULL|                1|                NULL|                   NULL|\n",
      "+--------------------+--------------------+------------+-----------------+--------------------+-------------------+----------+---------+--------------------+----------------+-----------------------+-------------+------------+--------------------+----------------+-----------------+--------------------+-----------------------+\n",
      "only showing top 20 rows\n",
      "\n",
      "unique and nonnull id: 6941\n"
     ]
    }
   ],
   "source": [
    "# read in raw receipt data\n",
    "receipts_json = \"data/receipts.json\"\n",
    "raw_receipts_df = spark.read.json(receipts_json)\n",
    "print(f'raw: {df.count()}')\n",
    "\n",
    "# the major problem with raw reciepts is rewardsReceiptItemList column\n",
    "# contains an array of strucTypes that represents a line item\n",
    "# need to create a new 'item' table \n",
    "### 1) explodes the line items so it can be structures\n",
    "### 2) bridges the receipt table to the brands table using barcode\n",
    "\n",
    "receipts_df = raw_receipts_df.select(\n",
    "    F.col(\"_id.$oid\").alias(\"_id\"),\n",
    "    F.col(\"bonusPointsEarned\"),\n",
    "    F.col(\"bonusPointsEarnedReason\"),\n",
    "    F.from_unixtime(F.col(\"createDate.$date\")/1000).alias('createDate'),\n",
    "    F.from_unixtime(F.col(\"dateScanned.$date\")/1000).alias('dateScanned'),\n",
    "    F.from_unixtime(F.col(\"finishedDate.$date\")/1000).alias('finishedDate'),\n",
    "    F.from_unixtime(F.col(\"modifyDate.$date\")/1000).alias('modifyDate'),\n",
    "    F.from_unixtime(F.col(\"pointsAwardedDate.$date\")/1000).alias('pointsAwardedDate'),\n",
    "    F.col(\"pointsEarned\"),\n",
    "    F.from_unixtime(F.col(\"purchaseDate.$date\")/1000).alias('purchaseDate'),\n",
    "    F.col(\"purchasedItemCount\"),\n",
    "    F.col(\"rewardsReceiptStatus\"),\n",
    "    F.col(\"totalSpent\"),\n",
    "    F.col(\"userId\"),\n",
    ")\n",
    "\n",
    "receipts_df.show()\n",
    "\n",
    "items_df = raw_receipts_df.select(F.explode(F.col('rewardsReceiptItemList')).alias('item_struct'), F.col(\"_id.$oid\").alias(\"receiptId\"))\n",
    "items_df.show()\n",
    "total_item_count = items_df.count()\n",
    "# Dynamically create new columns from each field in the \n",
    "cols = [col.name for col in items_df.schema['item_struct'].dataType.fields]\n",
    "for col in cols:\n",
    "    items_df = items_df.withColumn(f\"{col}\", F.col(\"item_struct.\" + col))\n",
    "    nonnull_rate = items_df.where(F.col(col).isNotNull()).count()/total_item_count\n",
    "    # removes some columns that are not as important (decided remove anything greater than 90% null)\n",
    "    if nonnull_rate < .1:\n",
    "        items_df = items_df.drop(col)\n",
    "    \n",
    "    print(f'{col}: {nonnull_rate}')\n",
    "print(f'total: {total_item_count}')\n",
    "# creates final items_df - add a new _id column \n",
    "id_w = Window.partitionBy('receiptId').orderBy(F.col('barcode'),F.col('description'))\n",
    "items_df = items_df.select(\n",
    "    F.concat(F.col('receiptId'),F.lit('_'),F.row_number().over(id_w)).alias('_id'),\n",
    "    'receiptId',\n",
    "    'barcode',\n",
    "    'brandCode',\n",
    "    'description',\n",
    "    'discountedItemPrice',\n",
    "    'finalPrice',\n",
    "    'itemPrice',\n",
    "    'metabriteCampaignId',\n",
    "    'needsFetchReview',\n",
    "    'originalReceiptItemText',\n",
    "    'partnerItemId',\n",
    "    'pointsEarned',\n",
    "    'pointsPayerId',\n",
    "    'priceAfterCoupon',\n",
    "    'quantityPurchased',\n",
    "    'rewardsGroup',\n",
    "    'rewardsProductPartnerId',\n",
    ")\n",
    "items_df.where(F.col('brandCode').isNotNull()).show()\n",
    "\n",
    "# check ids are unique and non null by counting compared to count earlier\n",
    "print(f'unique and nonnull id: {items_df.where(F.col('_id').isNotNull()).distinct().count()}')\n"
   ]
  },
  {
   "cell_type": "code",
   "execution_count": 5,
   "id": "c800f007-8bce-4e5f-873c-5b3d99324a1d",
   "metadata": {},
   "outputs": [
    {
     "name": "stdout",
     "output_type": "stream",
     "text": [
      "+-------------+\n",
      "|partnerItemId|\n",
      "+-------------+\n",
      "|         1090|\n",
      "|         1159|\n",
      "|         1572|\n",
      "|         1436|\n",
      "|         1512|\n",
      "|         1372|\n",
      "|         1669|\n",
      "|         1394|\n",
      "|          944|\n",
      "|         1241|\n",
      "|         1265|\n",
      "|         1280|\n",
      "|         1361|\n",
      "|         1746|\n",
      "|            7|\n",
      "|         1953|\n",
      "|         1528|\n",
      "|         1897|\n",
      "|         1445|\n",
      "|         1695|\n",
      "+-------------+\n",
      "only showing top 20 rows\n",
      "\n"
     ]
    }
   ],
   "source": [
    "items_df.select('partnerItemId').distinct().show()"
   ]
  },
  {
   "cell_type": "code",
   "execution_count": 8,
   "id": "52de2469-acde-4e8a-a133-af358114a084",
   "metadata": {},
   "outputs": [
    {
     "name": "stdout",
     "output_type": "stream",
     "text": [
      "+------------+--------------------+--------------------+------------+------------+-------------------+----------+---------+-------------------+----------------+-----------------------+-------------+------------+--------------------+----------------+-----------------+------------+-----------------------+--------------------+--------------------+------------+--------------------+------------+--------+\n",
      "|     barcode|                 _id|           receiptId|   brandCode| description|discountedItemPrice|finalPrice|itemPrice|metabriteCampaignId|needsFetchReview|originalReceiptItemText|partnerItemId|pointsEarned|       pointsPayerId|priceAfterCoupon|quantityPurchased|rewardsGroup|rewardsProductPartnerId|                 _id|            category|categoryCode|               cpgId|        name|topBrand|\n",
      "+------------+--------------------+--------------------+------------+------------+-------------------+----------+---------+-------------------+----------------+-----------------------+-------------+------------+--------------------+----------------+-----------------+------------+-----------------------+--------------------+--------------------+------------+--------------------+------------+--------+\n",
      "|511111204206|600206000a720f05f...|600206000a720f05f...|     SWANSON|     SWANSON|               5.58|      5.58|     5.58|               NULL|            NULL|     SWANSON UNSLTD CKN|         1083|        55.8|5a734034e4b0d58f3...|            NULL|                2|        NULL|   5a734034e4b0d58f3...|5a8c36dbe4b0ccf16...|Canned Goods & Soups|        NULL|5a734034e4b0d58f3...|     Swanson|   false|\n",
      "|511111001485|600208270a720f05f...|600208270a720f05f...|    TOSTITOS|    TOSTITOS|               2.98|      2.98|     2.98|               NULL|            NULL|     TOSTITOS MED SALSA|         1178|        NULL|5332f5fbe4b03c9a2...|            NULL|                1|        NULL|   5332f5fbe4b03c9a2...|585a972de4b03e62d...|              Snacks|        NULL|5332f5fbe4b03c9a2...|    Tostitos|    NULL|\n",
      "|511111001485|600208270a720f05f...|600208270a720f05f...|    TOSTITOS|    TOSTITOS|               3.99|      3.99|     3.99|               NULL|            NULL|     TOSTITOS MED SALSA|         1191|        NULL|5332f5fbe4b03c9a2...|            NULL|                1|        NULL|   5332f5fbe4b03c9a2...|585a972de4b03e62d...|              Snacks|        NULL|5332f5fbe4b03c9a2...|    Tostitos|    NULL|\n",
      "|511111204206|600208270a720f05f...|600208270a720f05f...|     SWANSON|     SWANSON|               5.58|      5.58|     5.58|               NULL|            NULL|     SWANSON UNSLTD CKN|         1083|        55.8|5a734034e4b0d58f3...|            NULL|                2|        NULL|   5a734034e4b0d58f3...|5a8c36dbe4b0ccf16...|Canned Goods & Soups|        NULL|5a734034e4b0d58f3...|     Swanson|   false|\n",
      "|511111001485|60020d2a0a720f05f...|60020d2a0a720f05f...|    TOSTITOS|    TOSTITOS|               2.98|      2.98|     2.98|               NULL|            NULL|     TOSTITOS MED SALSA|         1178|        NULL|5332f5fbe4b03c9a2...|            NULL|                1|        NULL|   5332f5fbe4b03c9a2...|585a972de4b03e62d...|              Snacks|        NULL|5332f5fbe4b03c9a2...|    Tostitos|    NULL|\n",
      "|511111001485|60020d2a0a720f05f...|60020d2a0a720f05f...|    TOSTITOS|    TOSTITOS|               3.99|      3.99|     3.99|               NULL|            NULL|     TOSTITOS MED SALSA|         1191|        NULL|5332f5fbe4b03c9a2...|            NULL|                1|        NULL|   5332f5fbe4b03c9a2...|585a972de4b03e62d...|              Snacks|        NULL|5332f5fbe4b03c9a2...|    Tostitos|    NULL|\n",
      "|511111204206|60020d2a0a720f05f...|60020d2a0a720f05f...|     SWANSON|     SWANSON|               5.58|      5.58|     5.58|               NULL|            NULL|     SWANSON UNSLTD CKN|         1083|        55.8|5a734034e4b0d58f3...|            NULL|                2|        NULL|   5a734034e4b0d58f3...|5a8c36dbe4b0ccf16...|Canned Goods & Soups|        NULL|5a734034e4b0d58f3...|     Swanson|   false|\n",
      "|511111001485|60023e8f0a720f05f...|60023e8f0a720f05f...|    TOSTITOS|    TOSTITOS|               2.98|      2.98|     2.98|               NULL|            NULL|     TOSTITOS MED SALSA|         1177|        NULL|5332f5fbe4b03c9a2...|            NULL|                1|        NULL|   5332f5fbe4b03c9a2...|585a972de4b03e62d...|              Snacks|        NULL|5332f5fbe4b03c9a2...|    Tostitos|    NULL|\n",
      "|511111001485|60023e8f0a720f05f...|60023e8f0a720f05f...|    TOSTITOS|    TOSTITOS|               3.99|      3.99|     3.99|               NULL|            NULL|     TOSTITOS MED SALSA|         1189|        NULL|5332f5fbe4b03c9a2...|            NULL|                1|        NULL|   5332f5fbe4b03c9a2...|585a972de4b03e62d...|              Snacks|        NULL|5332f5fbe4b03c9a2...|    Tostitos|    NULL|\n",
      "|511111204206|60023e8f0a720f05f...|60023e8f0a720f05f...|     SWANSON|     SWANSON|               5.58|      5.58|     5.58|               NULL|            NULL|     SWANSON UNSLTD CKN|         1082|        55.8|5a734034e4b0d58f3...|            NULL|                2|        NULL|   5a734034e4b0d58f3...|5a8c36dbe4b0ccf16...|Canned Goods & Soups|        NULL|5a734034e4b0d58f3...|     Swanson|   false|\n",
      "|511111001485|6002590c0a7214ad4...|6002590c0a7214ad4...|    TOSTITOS|    TOSTITOS|               2.98|      2.98|     2.98|               NULL|            NULL|     TOSTITOS MED SALSA|         1186|        NULL|5332f5fbe4b03c9a2...|            NULL|                1|        NULL|   5332f5fbe4b03c9a2...|585a972de4b03e62d...|              Snacks|        NULL|5332f5fbe4b03c9a2...|    Tostitos|    NULL|\n",
      "|511111001485|6002590c0a7214ad4...|6002590c0a7214ad4...|    TOSTITOS|    TOSTITOS|               3.99|      3.99|     3.99|               NULL|            NULL|     TOSTITOS MED SALSA|         1199|        NULL|5332f5fbe4b03c9a2...|            NULL|                1|        NULL|   5332f5fbe4b03c9a2...|585a972de4b03e62d...|              Snacks|        NULL|5332f5fbe4b03c9a2...|    Tostitos|    NULL|\n",
      "|511111104537|6002590c0a7214ad4...|6002590c0a7214ad4...|KETTLE BRAND|KETTLE BRAND|               3.69|      3.69|     3.69|               NULL|            NULL|   HYV KETTLE CHIP ORIG|         1144|        36.9|5a734034e4b0d58f3...|            NULL|                1|        NULL|   5a734034e4b0d58f3...|5afda575e4b0c11cf...|              Snacks|        NULL|5a734034e4b0d58f3...|Kettle Brand|   false|\n",
      "|511111204206|60025cb80a720f05f...|60025cb80a720f05f...|     SWANSON|     SWANSON|               5.58|      5.58|     5.58|               NULL|            NULL|     SWANSON UNSLTD CKN|         1124|        55.8|5a734034e4b0d58f3...|            5.58|                2|        NULL|   5a734034e4b0d58f3...|5a8c36dbe4b0ccf16...|Canned Goods & Soups|        NULL|5a734034e4b0d58f3...|     Swanson|   false|\n",
      "|511111001485|600260210a720f05f...|600260210a720f05f...|    TOSTITOS|    TOSTITOS|               2.98|      2.98|     2.98|               NULL|            NULL|     TOSTITOS MED SALSA|         1187|        NULL|5332f5fbe4b03c9a2...|            2.98|                1|        NULL|   5332f5fbe4b03c9a2...|585a972de4b03e62d...|              Snacks|        NULL|5332f5fbe4b03c9a2...|    Tostitos|    NULL|\n",
      "|511111001485|600260210a720f05f...|600260210a720f05f...|    TOSTITOS|    TOSTITOS|               3.99|      3.99|     3.99|               NULL|            NULL|     TOSTITOS MED SALSA|         1200|        NULL|5332f5fbe4b03c9a2...|            3.99|                1|        NULL|   5332f5fbe4b03c9a2...|585a972de4b03e62d...|              Snacks|        NULL|5332f5fbe4b03c9a2...|    Tostitos|    NULL|\n",
      "|511111001485|600370250a720f05f...|600370250a720f05f...|    TOSTITOS|    TOSTITOS|               2.98|      2.98|     2.98|               NULL|            NULL|     TOSTITOS MED SALSA|         1184|        NULL|5332f5fbe4b03c9a2...|            NULL|                1|        NULL|   5332f5fbe4b03c9a2...|585a972de4b03e62d...|              Snacks|        NULL|5332f5fbe4b03c9a2...|    Tostitos|    NULL|\n",
      "|511111001485|600370250a720f05f...|600370250a720f05f...|    TOSTITOS|    TOSTITOS|               3.99|      3.99|     3.99|               NULL|            NULL|     TOSTITOS MED SALSA|         1197|        NULL|5332f5fbe4b03c9a2...|            NULL|                1|        NULL|   5332f5fbe4b03c9a2...|585a972de4b03e62d...|              Snacks|        NULL|5332f5fbe4b03c9a2...|    Tostitos|    NULL|\n",
      "|511111104537|600370250a720f05f...|600370250a720f05f...|KETTLE BRAND|KETTLE BRAND|               3.69|      3.69|     3.69|               NULL|            NULL|   HYV KETTLE CHIP ORIG|         1142|        36.9|5a734034e4b0d58f3...|            NULL|                1|        NULL|   5a734034e4b0d58f3...|5afda575e4b0c11cf...|              Snacks|        NULL|5a734034e4b0d58f3...|Kettle Brand|   false|\n",
      "|511111204206|600370250a720f05f...|600370250a720f05f...|     SWANSON|     SWANSON|               5.58|      5.58|     5.58|               NULL|            NULL|     SWANSON UNSLTD CKN|         1089|        55.8|5a734034e4b0d58f3...|            NULL|                2|        NULL|   5a734034e4b0d58f3...|5a8c36dbe4b0ccf16...|Canned Goods & Soups|        NULL|5a734034e4b0d58f3...|     Swanson|   false|\n",
      "+------------+--------------------+--------------------+------------+------------+-------------------+----------+---------+-------------------+----------------+-----------------------+-------------+------------+--------------------+----------------+-----------------+------------+-----------------------+--------------------+--------------------+------------+--------------------+------------+--------+\n",
      "only showing top 20 rows\n",
      "\n"
     ]
    }
   ],
   "source": [
    "items_df.join(brands_df, 'barcode', 'left' ).where(F.col('name').isNotNull()).show()\n",
    "# e5e63da79fcd2bebbd7cb8bf1c1d0274"
   ]
  },
  {
   "cell_type": "code",
   "execution_count": 15,
   "id": "8aff1aa5-7eca-4a1f-851c-f2f081f68656",
   "metadata": {},
   "outputs": [
    {
     "name": "stdout",
     "output_type": "stream",
     "text": [
      "+------------+--------------------+--------------------+---------+--------------------+-------------------+----------+---------+-------------------+----------------+-----------------------+-------------+------------+--------------------+----------------+-----------------+--------------------+-----------------------+----+--------+------------+-----+----+--------+\n",
      "|     barcode|                 _id|           receiptId|brandCode|         description|discountedItemPrice|finalPrice|itemPrice|metabriteCampaignId|needsFetchReview|originalReceiptItemText|partnerItemId|pointsEarned|       pointsPayerId|priceAfterCoupon|quantityPurchased|        rewardsGroup|rewardsProductPartnerId| _id|category|categoryCode|cpgId|name|topBrand|\n",
      "+------------+--------------------+--------------------+---------+--------------------+-------------------+----------+---------+-------------------+----------------+-----------------------+-------------+------------+--------------------+----------------+-----------------+--------------------+-----------------------+----+--------+------------+-----+----+--------+\n",
      "|        NULL|5f9c74f70a7214ad0...|5f9c74f70a7214ad0...|     NULL|                NULL|               NULL|      NULL|     NULL|               NULL|            true|                   NULL|            2|        NULL|                NULL|            NULL|             NULL|                NULL|                   NULL|NULL|    NULL|        NULL| NULL|NULL|    NULL|\n",
      "|        NULL|5f9c74f70a7214ad0...|5f9c74f70a7214ad0...|     NULL|                NULL|               NULL|      NULL|     NULL|               NULL|            true|                   NULL|            3|        NULL|                NULL|            NULL|             NULL|                NULL|                   NULL|NULL|    NULL|        NULL| NULL|NULL|    NULL|\n",
      "|        NULL|5f9c74f70a7214ad0...|5f9c74f70a7214ad0...|     NULL|                NULL|               NULL|      NULL|     NULL|               NULL|            true|                   NULL|            4|        NULL|                NULL|            NULL|             NULL|                NULL|                   NULL|NULL|    NULL|        NULL| NULL|NULL|    NULL|\n",
      "|        NULL|5f9c74f70a7214ad0...|5f9c74f70a7214ad0...|     NULL|                NULL|               NULL|      NULL|     NULL|               NULL|            true|                   NULL|            5|        NULL|                NULL|            NULL|             NULL|                NULL|                   NULL|NULL|    NULL|        NULL| NULL|NULL|    NULL|\n",
      "|        NULL|5f9c74f70a7214ad0...|5f9c74f70a7214ad0...|     NULL|                NULL|               NULL|      NULL|     NULL|               NULL|            true|                   NULL|            6|        NULL|                NULL|            NULL|             NULL|                NULL|                   NULL|NULL|    NULL|        NULL| NULL|NULL|    NULL|\n",
      "|        NULL|5f9c74f70a7214ad0...|5f9c74f70a7214ad0...|     NULL|                NULL|               NULL|      NULL|     NULL|               NULL|            true|                   NULL|            7|        NULL|                NULL|            NULL|             NULL|                NULL|                   NULL|NULL|    NULL|        NULL| NULL|NULL|    NULL|\n",
      "|        NULL|5f9c74f70a7214ad0...|5f9c74f70a7214ad0...|     NULL|                NULL|               NULL|      NULL|     NULL|               NULL|            true|                   NULL|            8|        NULL|                NULL|            NULL|             NULL|                NULL|                   NULL|NULL|    NULL|        NULL| NULL|NULL|    NULL|\n",
      "|        NULL|5f9c74f70a7214ad0...|5f9c74f70a7214ad0...|     NULL|                NULL|               NULL|      NULL|     NULL|               NULL|            true|                   NULL|            9|        NULL|                NULL|            NULL|             NULL|                NULL|                   NULL|NULL|    NULL|        NULL| NULL|NULL|    NULL|\n",
      "|        NULL|5f9c74f70a7214ad0...|5f9c74f70a7214ad0...|     NULL|                NULL|               NULL|      NULL|     NULL|               NULL|            true|                   NULL|           10|        NULL|                NULL|            NULL|             NULL|                NULL|                   NULL|NULL|    NULL|        NULL| NULL|NULL|    NULL|\n",
      "|        NULL|5f9c74f70a7214ad0...|5f9c74f70a7214ad0...|     NULL|                NULL|               NULL|      NULL|     NULL|               NULL|            true|                   NULL|           11|        NULL|                NULL|            NULL|             NULL|                NULL|                   NULL|NULL|    NULL|        NULL| NULL|NULL|    NULL|\n",
      "|075925306254|5f9c74f70a7214ad0...|5f9c74f70a7214ad0...|     NULL|                NULL|               NULL|         1|        1|               NULL|            NULL|                   NULL|            1|        NULL|                NULL|            NULL|                1|KRAFT NATURAL CHE...|   559c2234e4b06aca3...|NULL|    NULL|        NULL| NULL|NULL|    NULL|\n",
      "|034100573065|5f9c74f90a7214ad0...|5f9c74f90a7214ad0...|     NULL|MILLER LITE 24 PA...|               NULL|      1.00|     1.00|               NULL|           false|                   NULL|            3|        30.0|5332f709e4b03c9a2...|            NULL|                1| MILLER LITE 24 PACK|   5332f709e4b03c9a2...|NULL|    NULL|        NULL| NULL|NULL|    NULL|\n",
      "|034100573065|5f9c74f90a7214ad0...|5f9c74f90a7214ad0...|     NULL|MILLER LITE 24 PA...|               NULL|      1.00|     1.00|               NULL|           false|                   NULL|            4|        30.0|5332f709e4b03c9a2...|            NULL|                1| MILLER LITE 24 PACK|   5332f709e4b03c9a2...|NULL|    NULL|        NULL| NULL|NULL|    NULL|\n",
      "|034100573065|5f9c74f90a7214ad0...|5f9c74f90a7214ad0...|     NULL|MILLER LITE 24 PA...|               NULL|      1.00|     1.00|               NULL|           false|                   NULL|            5|        30.0|5332f709e4b03c9a2...|            NULL|                1| MILLER LITE 24 PACK|   5332f709e4b03c9a2...|NULL|    NULL|        NULL| NULL|NULL|    NULL|\n",
      "|075925306254|5f9c74f90a7214ad0...|5f9c74f90a7214ad0...|     NULL|                NULL|               NULL|         1|        1|               NULL|           false|                   NULL|            1|        NULL|                NULL|            NULL|                1|SARGENTO NATURAL ...|   5e7cf838f221c312e...|NULL|    NULL|        NULL| NULL|NULL|    NULL|\n",
      "|075925306254|5f9c74f90a7214ad0...|5f9c74f90a7214ad0...|     NULL|                NULL|               NULL|     10.00|    10.00|               NULL|           false|                   NULL|            2|        NULL|                NULL|            NULL|                2|SARGENTO NATURAL ...|   5e7cf838f221c312e...|NULL|    NULL|        NULL| NULL|NULL|    NULL|\n",
      "|034100573065|5fa5ad370a720f05e...|5fa5ad370a720f05e...|     NULL|MILLER LITE 24 PA...|               NULL|     29.00|    29.00|               NULL|           false|                   NULL|            2|       870.0|5332f709e4b03c9a2...|            NULL|                1| MILLER LITE 24 PACK|   5332f709e4b03c9a2...|NULL|    NULL|        NULL| NULL|NULL|    NULL|\n",
      "|034100573065|5fa5ad370a720f05e...|5fa5ad370a720f05e...|     NULL|MILLER LITE 24 PA...|               NULL|     29.00|    29.00|               NULL|           false|                   NULL|            3|       870.0|5332f709e4b03c9a2...|            NULL|                1| MILLER LITE 24 PACK|   5332f709e4b03c9a2...|NULL|    NULL|        NULL| NULL|NULL|    NULL|\n",
      "|034100573065|5fa5ad370a720f05e...|5fa5ad370a720f05e...|     NULL|MILLER LITE 24 PA...|               NULL|     29.00|    29.00|               NULL|           false|                   NULL|            4|       870.0|5332f709e4b03c9a2...|            NULL|                1| MILLER LITE 24 PACK|   5332f709e4b03c9a2...|NULL|    NULL|        NULL| NULL|NULL|    NULL|\n",
      "|034100573065|5fa5ad370a720f05e...|5fa5ad370a720f05e...|     NULL|MILLER LITE 24 PA...|               NULL|     29.00|    29.00|               NULL|           false|                   NULL|            5|       870.0|5332f709e4b03c9a2...|            NULL|                1| MILLER LITE 24 PACK|   5332f709e4b03c9a2...|NULL|    NULL|        NULL| NULL|NULL|    NULL|\n",
      "+------------+--------------------+--------------------+---------+--------------------+-------------------+----------+---------+-------------------+----------------+-----------------------+-------------+------------+--------------------+----------------+-----------------+--------------------+-----------------------+----+--------+------------+-----+----+--------+\n",
      "only showing top 20 rows\n",
      "\n"
     ]
    }
   ],
   "source": [
    "items_df.join(brands_df, 'barcode', 'left' ).where(F.col('name').isNull()).show()"
   ]
  },
  {
   "cell_type": "code",
   "execution_count": 10,
   "id": "c05e597e-57b1-4645-ab88-171031ff204d",
   "metadata": {},
   "outputs": [
    {
     "name": "stdout",
     "output_type": "stream",
     "text": [
      "+--------+--------------+----------+\n",
      "|count(1)|count(barcode)|count(_id)|\n",
      "+--------+--------------+----------+\n",
      "|    6948|          3097|        89|\n",
      "+--------+--------------+----------+\n",
      "\n"
     ]
    }
   ],
   "source": []
  },
  {
   "cell_type": "code",
   "execution_count": 19,
   "id": "c056a45e-fa47-44d6-b651-cba8ca5f695a",
   "metadata": {},
   "outputs": [
    {
     "name": "stdout",
     "output_type": "stream",
     "text": [
      "+--------+-------------------------------------------------+\n",
      "|count(1)|sum(CASE WHEN (barcode = 4011) THEN 1 ELSE 0 END)|\n",
      "+--------+-------------------------------------------------+\n",
      "|    6941|                                              177|\n",
      "+--------+-------------------------------------------------+\n",
      "\n"
     ]
    }
   ],
   "source": [
    "items_df.select(F.count('*'),F.sum(F.when(F.col('barcode')==4011, 1).otherwise(0))).show()"
   ]
  },
  {
   "cell_type": "code",
   "execution_count": 5,
   "id": "0900d068-d0a0-41fe-ba42-e0df6eb75bde",
   "metadata": {},
   "outputs": [
    {
     "name": "stdout",
     "output_type": "stream",
     "text": [
      "raw: 495\n",
      "total: 212\n",
      "unique and nonnull id: 212\n",
      "+------------------------+------+-------------------+-------------------+--------+------------+-----+\n",
      "|_id                     |active|createdDate        |lastLogin          |role    |signUpSource|state|\n",
      "+------------------------+------+-------------------+-------------------+--------+------------+-----+\n",
      "|5ffc9001b3348b11c93388b6|true  |2021-01-11 12:50:57|2021-01-11 12:50:57|consumer|Email       |WI   |\n",
      "|601465a884231211ce796db3|true  |2021-01-29 14:44:40|2021-01-29 14:44:40|consumer|Email       |WI   |\n",
      "|6014558467804a1228b20cf0|true  |2021-01-29 13:35:48|2021-01-29 13:35:48|consumer|Email       |WI   |\n",
      "|601ac195af4b1a1205f7560f|true  |2021-02-03 10:30:29|2021-02-03 10:34:11|consumer|Email       |WI   |\n",
      "|5ffcb4bc04929111f6e92608|true  |2021-01-11 15:27:40|2021-01-11 15:27:40|consumer|Email       |WI   |\n",
      "|601ac1da591789121574dc07|true  |2021-02-03 10:31:38|2021-02-03 10:31:38|consumer|Email       |WI   |\n",
      "|5ff36be7135e7011bcb856d3|true  |2021-01-04 14:26:31|2021-01-04 14:29:52|consumer|Email       |WI   |\n",
      "|60074246325c8a12289e22a0|true  |2021-01-19 15:34:15|2021-01-19 15:34:15|consumer|Email       |WI   |\n",
      "|5ff4ce34c3d63511e2a484ba|true  |2021-01-05 15:38:12|2021-01-05 15:38:12|consumer|Email       |WI   |\n",
      "|60086a09b6310511daa4e1e9|true  |2021-01-20 12:36:09|2021-01-20 12:36:10|consumer|Email       |WI   |\n",
      "|600f47f06fd0dc1768a34a12|true  |2021-01-25 17:36:32|2021-01-25 17:40:13|consumer|Email       |WI   |\n",
      "|602176c9b57b8a12187fe77e|true  |2021-02-08 12:37:13|2021-02-08 12:37:13|consumer|Email       |WI   |\n",
      "|5ff7949eb3348b11c93373d2|true  |2021-01-07 18:09:18|2021-01-07 18:09:18|consumer|Email       |WI   |\n",
      "|5ff8ce8504929111f6e913cb|true  |2021-01-08 16:28:37|2021-01-08 16:29:59|consumer|Email       |WI   |\n",
      "|5fff4c7461ffa811fdb0854c|true  |2021-01-13 14:39:32|2021-01-13 14:39:33|consumer|Email       |WI   |\n",
      "|5ff7268eeb7c7d12096da2a9|true  |2021-01-07 10:19:42|2021-01-07 10:19:42|consumer|Email       |WI   |\n",
      "|601c2c05969c0b11f7d0b097|true  |2021-02-04 12:16:53|2021-02-04 12:20:30|consumer|Email       |WI   |\n",
      "|6025388fb54593795bf69234|true  |2021-02-11 09:00:47|2021-02-11 09:00:47|consumer|Email       |WI   |\n",
      "|60268c7aefa6011bb1510786|true  |2021-02-12 09:11:06|2021-02-12 09:11:06|consumer|Email       |WI   |\n",
      "|60189c859a1b091205b61de1|true  |2021-02-01 19:27:49|2021-02-01 19:27:49|consumer|Email       |WI   |\n",
      "+------------------------+------+-------------------+-------------------+--------+------------+-----+\n",
      "only showing top 20 rows\n",
      "\n"
     ]
    }
   ],
   "source": [
    "# There are dupes in users table\n",
    "\n",
    "users_json = \"data/users.json\"\n",
    "\n",
    "df = spark.read.json(users_json)\n",
    "\n",
    "print(f'raw: {df.count()}')\n",
    "\n",
    "users_df = df.select(\n",
    "    F.col(\"_id.$oid\").alias(\"_id\"),\n",
    "    F.col(\"active\"),\n",
    "    F.from_unixtime(F.col(\"createdDate.$date\")/1000).alias('createdDate'),\n",
    "    F.from_unixtime(F.col(\"lastLogin.$date\")/1000).alias('lastLogin'),\n",
    "    F.col(\"role\"),\n",
    "    F.col(\"signUpSource\"),\n",
    "    F.col(\"state\"),\n",
    ").distinct()\n",
    "\n",
    "print(f'total: {users_df.count()}')\n",
    "# check ids are unique and non null by counting compared to count earlier\n",
    "print(f'unique and nonnull id: {users_df.where(F.col('_id').isNotNull()).distinct().count()}')\n",
    "users_df.show(truncate = False)"
   ]
  },
  {
   "cell_type": "code",
   "execution_count": 14,
   "id": "cd4512ce-2af5-49bb-bb40-0bd1f8283e30",
   "metadata": {},
   "outputs": [
    {
     "name": "stdout",
     "output_type": "stream",
     "text": [
      "+--------+----------+\n",
      "|count(1)|count(_id)|\n",
      "+--------+----------+\n",
      "|    1119|       971|\n",
      "+--------+----------+\n",
      "\n"
     ]
    }
   ],
   "source": [
    "receipts_df.join(users_df.alias('users_df'), F.col('userId') == F.col('users_df._id'), 'left' ).select(F.count('*'), F.count(users_df['_id'])).show()"
   ]
  },
  {
   "cell_type": "code",
   "execution_count": null,
   "id": "db5fa0f9-6186-498c-8e81-885cdf97e765",
   "metadata": {},
   "outputs": [],
   "source": [
    "# What are the top 5 brands by receipts scanned for most recent (full?) month?\n",
    "# How does the ranking of the top 5 brands by receipts scanned for the recent month compare to the ranking for the previous month?"
   ]
  },
  {
   "cell_type": "code",
   "execution_count": 108,
   "id": "8e28c082-0cd9-48dd-aaf4-34e416b5cdfc",
   "metadata": {},
   "outputs": [
    {
     "name": "stdout",
     "output_type": "stream",
     "text": [
      "+--------------------+-----------------+---------------+\n",
      "|                name|recent_month_rank|last_month_rank|\n",
      "+--------------------+-----------------+---------------+\n",
      "|            Tostitos|                1|           NULL|\n",
      "|             Swanson|                2|           NULL|\n",
      "|Cracker Barrel Ch...|                3|           NULL|\n",
      "|               Prego|                4|           NULL|\n",
      "|     Diet Chris Cola|                5|           NULL|\n",
      "+--------------------+-----------------+---------------+\n",
      "\n"
     ]
    }
   ],
   "source": [
    "# requires some set up but we can answer both questions in a single model\n",
    "# we need to join brands to items to reciepts\n",
    "# then we need to group, get the total reciept count and finally get the rank by month\n",
    "# then we can use a window to get last month by lag, and finally get the most recent month using a window as well\n",
    "# cleaning up the column selection, adding limits and filtering for the most recent month \n",
    "\n",
    "# making an assumption we want to see the most recent month we have data for\n",
    "# assuming we want ro rank by reciept count\n",
    "\n",
    "\n",
    "# set up windows\n",
    "ct = Window.partitionBy(F.col('month')).orderBy(F.col('receipt_ct').desc())\n",
    "lag = Window.partitionBy(F.col('name')).orderBy(F.col('month'))\n",
    "# do the joins (we will need these later)\n",
    "items_with_brand = items_df.join(brands_df, 'barcode', 'left' )\n",
    "receipt_with_brand = (\n",
    "    items_with_brand\n",
    " .join(receipts_df.withColumn(\n",
    "     'month',\n",
    "     F.date_trunc('month', F.col('dateScanned'))), items_with_brand['receiptId'] == receipts_df['_id'], 'left')\n",
    "     # filter out brands we cant join\n",
    "    .where(brands_df['_id'].isNotNull())\n",
    ")\n",
    "\n",
    "(receipt_with_brand\n",
    " # group by month and name because we need the rct ct per month\n",
    " .groupBy('month', 'name')\n",
    " .agg(F.count_distinct('receiptId').alias('receipt_ct'))\n",
    " # rank the brands in each month\n",
    " .withColumn('recent_month_rank', F.row_number().over(ct))\n",
    " # get last months rank\n",
    " .withColumn('last_month_rank', F.lag(F.col('recent_month_rank')).over(lag))\n",
    " .withColumn('recent_month', F.max(F.col('month')).over(recent_month))\n",
    " .orderBy(F.col('month').desc(), F.col('recent_month_rank'))\n",
    " .where(F.col('month') == F.col('recent_month'))\n",
    " .select('name', 'recent_month_rank', 'last_month_rank')\n",
    " .limit(5)\n",
    ").show()"
   ]
  },
  {
   "cell_type": "code",
   "execution_count": 80,
   "id": "82118973-8d99-4cd2-89e1-6362abddd441",
   "metadata": {},
   "outputs": [
    {
     "name": "stdout",
     "output_type": "stream",
     "text": [
      "+--------------------+-----------------+---------------+\n",
      "|                name|recent_month_rank|last_month_rank|\n",
      "+--------------------+-----------------+---------------+\n",
      "|             Swanson|                1|           NULL|\n",
      "|            Tostitos|                2|           NULL|\n",
      "|Cracker Barrel Ch...|                3|           NULL|\n",
      "|     Diet Chris Cola|                4|           NULL|\n",
      "|               Prego|                5|           NULL|\n",
      "+--------------------+-----------------+---------------+\n",
      "\n"
     ]
    }
   ],
   "source": [
    "# wrote it in SQL, in case this is prefered\n",
    "items_df.createOrReplaceTempView(\"items\")\n",
    "brands_df.createOrReplaceTempView(\"brands\")\n",
    "receipts_df.createOrReplaceTempView(\"receipts\")\n",
    "\n",
    "spark.sql(\"\"\"\n",
    "WITH items_with_brand AS (\n",
    "    SELECT \n",
    "    i.*, \n",
    "    b._id AS brand_id, \n",
    "    b.name \n",
    "    FROM items i\n",
    "    LEFT JOIN brands b USING(barcode)\n",
    "    WHERE b._id IS NOT NULL\n",
    "),\n",
    "receipts_with_month AS (\n",
    "    SELECT \n",
    "    *, \n",
    "    DATE_TRUNC('month', dateScanned) AS month\n",
    "    FROM receipts \n",
    "),\n",
    "agg AS (\n",
    "    SELECT\n",
    "    r.month,\n",
    "    i.name,\n",
    "    COUNT(DISTINCT r._id) AS receipt_ct\n",
    "    FROM items_with_brand i     \n",
    "    LEFT JOIN receipts_with_month r ON i.receiptId = r._id\n",
    "    GROUP BY r.month, i.name\n",
    "),\n",
    "ranked AS (\n",
    "    SELECT \n",
    "    *,\n",
    "    ROW_NUMBER() OVER (PARTITION BY month ORDER BY receipt_ct DESC) AS recent_month_rank,\n",
    "    LAG(ROW_NUMBER() OVER (PARTITION BY name ORDER BY month)) OVER (PARTITION BY name ORDER BY month) AS last_month_rank,\n",
    "    MAX(month) OVER (PARTITION BY '') AS recent_month\n",
    "    FROM agg\n",
    ")\n",
    "SELECT \n",
    "name, \n",
    "recent_month_rank, \n",
    "last_month_rank\n",
    "FROM ranked WHERE month = recent_month\n",
    "ORDER BY month DESC, recent_month_rank\n",
    "LIMIT 5\n",
    "\"\"\").show()"
   ]
  },
  {
   "cell_type": "code",
   "execution_count": null,
   "id": "d30a3381-6bb9-48b2-bec7-6a175b8f2881",
   "metadata": {},
   "outputs": [],
   "source": [
    "# When considering average spend from receipts with 'rewardsReceiptStatus’ of ‘Accepted’ or ‘Rejected’, which is greater?\n",
    "# When considering total number of items purchased from receipts with 'rewardsReceiptStatus’ of ‘Accepted’ or ‘Rejected’, which is greater?"
   ]
  },
  {
   "cell_type": "code",
   "execution_count": 72,
   "id": "3b439b91-033c-4ad3-b8bf-c28a8fbc4af5",
   "metadata": {},
   "outputs": [
    {
     "name": "stdout",
     "output_type": "stream",
     "text": [
      "+--------------------+------------------+-------------------------------+\n",
      "|rewardsReceiptStatus|     average_spend|total_number_of_items_purchased|\n",
      "+--------------------+------------------+-------------------------------+\n",
      "|            FINISHED| 80.85430501930502|                           8184|\n",
      "|            REJECTED|23.326056338028184|                            173|\n",
      "+--------------------+------------------+-------------------------------+\n",
      "\n"
     ]
    }
   ],
   "source": [
    "# Assuming the totalSpend and purchasedItemCount columns are accurate, we dont need any joins to answer these questions\n",
    "\n",
    "(receipts_df\n",
    " .groupBy('rewardsReceiptStatus')\n",
    " .agg(\n",
    "     F.avg('totalSpent').alias('average_spend'),\n",
    "     F.sum('purchasedItemCount').alias('total_number_of_items_purchased')\n",
    " )\n",
    " .where(F.col('rewardsReceiptStatus').isin(['FINISHED','REJECTED']))\n",
    ").show()"
   ]
  },
  {
   "cell_type": "code",
   "execution_count": 79,
   "id": "0b4874c6-7bfd-4e9a-bbd4-13f6851692cb",
   "metadata": {},
   "outputs": [
    {
     "name": "stdout",
     "output_type": "stream",
     "text": [
      "+--------------------+------------------+-------------------------------+\n",
      "|rewardsReceiptStatus|     average_spend|total_number_of_items_purchased|\n",
      "+--------------------+------------------+-------------------------------+\n",
      "|            FINISHED| 80.85430501930502|                           8184|\n",
      "|            REJECTED|23.326056338028184|                            173|\n",
      "+--------------------+------------------+-------------------------------+\n",
      "\n"
     ]
    }
   ],
   "source": [
    "# wrote it in SQL, in case this is prefered\n",
    "spark.sql(\"\"\"\n",
    "SELECT \n",
    "rewardsReceiptStatus, \n",
    "AVG(totalSpent) average_spend, \n",
    "SUM(purchasedItemCount) total_number_of_items_purchased\n",
    "FROM receipts\n",
    "WHERE rewardsReceiptStatus IN ('FINISHED','REJECTED')\n",
    "GROUP BY rewardsReceiptStatus\n",
    "\"\"\").show()"
   ]
  },
  {
   "cell_type": "code",
   "execution_count": null,
   "id": "5f5b0480-1265-44ea-9bab-df7e3d12bc88",
   "metadata": {},
   "outputs": [],
   "source": [
    "# Which brand has the most spend among users who were created within the past 6 months?\n",
    "# Which brand has the most transactions among users who were created within the past 6 months?"
   ]
  },
  {
   "cell_type": "code",
   "execution_count": 144,
   "id": "ca593913-ab2b-48cd-8e81-6d98faab1077",
   "metadata": {},
   "outputs": [
    {
     "name": "stdout",
     "output_type": "stream",
     "text": [
      "+----+-----+------------+----------+---------+\n",
      "|name|spend|transactions|spend_rank|txns_rank|\n",
      "+----+-----+------------+----------+---------+\n",
      "+----+-----+------------+----------+---------+\n",
      "\n"
     ]
    }
   ],
   "source": [
    "# This query requires me to identify and filter reciepts of users that joined in the last 6 month\n",
    "# we can use the previously created df - receipt_with_brand\n",
    "# need group by the brand, and compute spend and transactions\n",
    "# optionally we can add a rank to identify the top spend and txn count brands\n",
    "\n",
    "q = Window.partitionBy(F.lit('')).orderBy(F.col('transactions').desc())\n",
    "p = Window.partitionBy(F.lit('')).orderBy(F.col('spend').desc())\n",
    "\n",
    "last_six_month_users = (\n",
    "    users_df.where(F.col('createdDate') >= F.date_sub(F.current_date(), 180)))\n",
    "\n",
    "(receipt_with_brand\n",
    " .join(last_six_month_users, receipt_with_brand['userId'] == last_six_month_users['_id'], 'inner')\n",
    " .groupBy('name')\n",
    " .agg(F.sum(F.col('itemPrice')*F.col('quantityPurchased')).alias('spend'),\n",
    "     F.sum(F.col('quantityPurchased')).alias('transactions'),\n",
    "     )\n",
    " .withColumn('spend_rank', F.row_number().over(p))\n",
    " .withColumn('txns_rank', F.row_number().over(q))\n",
    " .where((F.col('spend_rank') == 1) | (F.col('txns_rank') == 1))\n",
    ").show()"
   ]
  },
  {
   "cell_type": "code",
   "execution_count": null,
   "id": "31a0b82c-a58b-46d8-bbec-3a5ce3728910",
   "metadata": {},
   "outputs": [],
   "source": [
    "#### problems with the data"
   ]
  },
  {
   "cell_type": "code",
   "execution_count": 6,
   "id": "b65881e1-c809-41e0-8b57-37c6a6ed1e6f",
   "metadata": {},
   "outputs": [],
   "source": [
    "from pyspark.sql import functions as F\n",
    "\n",
    "def basic_checks(df):\n",
    "    result_dict = {'total_count': df.count()}\n",
    "    # check if nulls exist\n",
    "    nulls = df.select([F.sum(F.col(c).isNull().cast(\"int\")).alias(c) for c in df.columns]).collect()[0].asDict()\n",
    "    result_dict['nulls'] =nulls\n",
    "    # uniqueness\n",
    "    uniqueness= {}\n",
    "    for col in df.columns:\n",
    "        unique_count=df.select(col).distinct().count()\n",
    "        total_count = df.count()\n",
    "        uniqueness[col] = unique_count == total_count\n",
    "    result_dict['uniqueness'] = uniqueness\n",
    "    # check for duplicates\n",
    "    duplicate_count = df.count() - df.distinct().count()\n",
    "    result_dict['duplicates'] = duplicate_count\n",
    "    # check datatypes\n",
    "    data_types = {col: df.schema[col].dataType.simpleString() for col in df.columns}\n",
    "    result_dict['data_types'] =data_types\n",
    "    # summary states\n",
    "    numeric_cols = [col for col, dtype in data_types.items() if 'int' in dtype or 'double' in dtype or 'float' in dtype]\n",
    "    summary_stats= {}\n",
    "    for col in numeric_cols:\n",
    "        summary_stats[col] =df.select(col).describe().collect()\n",
    "    result_dict['summary_stats'] =summary_stats\n",
    "    return result_dict"
   ]
  },
  {
   "cell_type": "code",
   "execution_count": 12,
   "id": "547ad68b-4852-4b85-b1a5-d1ed328e934a",
   "metadata": {},
   "outputs": [
    {
     "name": "stdout",
     "output_type": "stream",
     "text": [
      "{'data_types': {'_id': 'string',\n",
      "                'barcode': 'string',\n",
      "                'brandCode': 'string',\n",
      "                'description': 'string',\n",
      "                'discountedItemPrice': 'string',\n",
      "                'finalPrice': 'string',\n",
      "                'itemPrice': 'string',\n",
      "                'metabriteCampaignId': 'string',\n",
      "                'needsFetchReview': 'boolean',\n",
      "                'originalReceiptItemText': 'string',\n",
      "                'partnerItemId': 'string',\n",
      "                'pointsEarned': 'string',\n",
      "                'pointsPayerId': 'string',\n",
      "                'priceAfterCoupon': 'string',\n",
      "                'quantityPurchased': 'bigint',\n",
      "                'receiptId': 'string',\n",
      "                'rewardsGroup': 'string',\n",
      "                'rewardsProductPartnerId': 'string'},\n",
      " 'duplicates': 0,\n",
      " 'nulls': {'_id': 0,\n",
      "           'barcode': 3851,\n",
      "           'brandCode': 4341,\n",
      "           'description': 381,\n",
      "           'discountedItemPrice': 1172,\n",
      "           'finalPrice': 174,\n",
      "           'itemPrice': 174,\n",
      "           'metabriteCampaignId': 6078,\n",
      "           'needsFetchReview': 6128,\n",
      "           'originalReceiptItemText': 1181,\n",
      "           'partnerItemId': 0,\n",
      "           'pointsEarned': 6014,\n",
      "           'pointsPayerId': 5674,\n",
      "           'priceAfterCoupon': 5985,\n",
      "           'quantityPurchased': 174,\n",
      "           'receiptId': 0,\n",
      "           'rewardsGroup': 5210,\n",
      "           'rewardsProductPartnerId': 4672},\n",
      " 'summary_stats': {'quantityPurchased': [Row(summary='count', quantityPurchased='6767'),\n",
      "                                         Row(summary='mean', quantityPurchased='1.386138613861386'),\n",
      "                                         Row(summary='stddev', quantityPurchased='1.2043631759028985'),\n",
      "                                         Row(summary='min', quantityPurchased='1'),\n",
      "                                         Row(summary='max', quantityPurchased='17')]},\n",
      " 'total_count': 6941,\n",
      " 'uniqueness': {'_id': True,\n",
      "                'barcode': False,\n",
      "                'brandCode': False,\n",
      "                'description': False,\n",
      "                'discountedItemPrice': False,\n",
      "                'finalPrice': False,\n",
      "                'itemPrice': False,\n",
      "                'metabriteCampaignId': False,\n",
      "                'needsFetchReview': False,\n",
      "                'originalReceiptItemText': False,\n",
      "                'partnerItemId': False,\n",
      "                'pointsEarned': False,\n",
      "                'pointsPayerId': False,\n",
      "                'priceAfterCoupon': False,\n",
      "                'quantityPurchased': False,\n",
      "                'receiptId': False,\n",
      "                'rewardsGroup': False,\n",
      "                'rewardsProductPartnerId': False}}\n"
     ]
    }
   ],
   "source": [
    "# lets do some basic bottom-up check on the actual dataframe\n",
    "pprint(basic_checks(items_df))"
   ]
  },
  {
   "cell_type": "code",
   "execution_count": 127,
   "id": "b75016db-2dba-4b22-88c2-56397bd895d1",
   "metadata": {},
   "outputs": [
    {
     "name": "stdout",
     "output_type": "stream",
     "text": [
      "+--------+--------------+----------+\n",
      "|count(1)|count(barcode)|count(_id)|\n",
      "+--------+--------------+----------+\n",
      "|    6948|          3097|        89|\n",
      "+--------+--------------+----------+\n",
      "\n"
     ]
    }
   ],
   "source": [
    "# barcode join is really weak\n",
    "items_df.join(brands_df, 'barcode', 'left' ).select(F.count('*'),F.count('barcode'), F.count(brands_df['_id'])).show()"
   ]
  },
  {
   "cell_type": "code",
   "execution_count": 128,
   "id": "4c37288e-c277-4bff-9ad0-14813378d69f",
   "metadata": {},
   "outputs": [
    {
     "name": "stdout",
     "output_type": "stream",
     "text": [
      "+--------+-------------------------------------------------+\n",
      "|count(1)|sum(CASE WHEN (barcode = 4011) THEN 1 ELSE 0 END)|\n",
      "+--------+-------------------------------------------------+\n",
      "|    6941|                                              177|\n",
      "+--------+-------------------------------------------------+\n",
      "\n"
     ]
    }
   ],
   "source": [
    "# there are some barcodes that say item not found, not too significant, but still imporant \n",
    "items_df.select(F.count('*'),F.sum(F.when(F.col('barcode')==4011, 1).otherwise(0))).show()"
   ]
  },
  {
   "cell_type": "code",
   "execution_count": 6,
   "id": "33df4739-195a-4d74-9518-89365063f9c8",
   "metadata": {},
   "outputs": [
    {
     "name": "stdout",
     "output_type": "stream",
     "text": [
      "+--------------------+--------------------+------------------+------------+----------+------------------+\n",
      "|           receiptId|              userId|    spend_by_items|qty_by_items|totalSpent|purchasedItemCount|\n",
      "+--------------------+--------------------+------------------+------------+----------+------------------+\n",
      "|5ffe23d70a7214ad2...|59c124bae4b0299e5...|             28.57|           1|        29|              NULL|\n",
      "|60099c3c0a7214ad8...|60099c1450b33111f...|3795.4400000000005|         341|      1083|               341|\n",
      "|6010be3f0a7214ada...|6010bddaa4b74c120...|              2.23|           1|         2|                 1|\n",
      "|603afc0e0a720fde1...|5fc961c3b8cfca11a...|             34.96|           2|        35|                 2|\n",
      "|600fb21f0a7214ada...|600fb1ac73c60b120...|               1.0|           1|         1|                 1|\n",
      "|60132aef0a720f05f...|60132acb73c60b3ca...|              10.0|           1|        10|                 1|\n",
      "|60189c900a7214ad2...|60189c90c8b50e11d...|             135.0|           5|        10|                 1|\n",
      "|601d7cd30a720f055...|59c124bae4b0299e5...|             28.57|           1|        29|              NULL|\n",
      "|5ff36c570a720f052...|5ff36be7135e7011b...|              10.0|           1|        10|                 1|\n",
      "|5ff4ce3d0a7214ada...|5ff4ce3dc3d63511e...|              58.0|           2|        29|                 2|\n",
      "|5ff73be50a720f052...|5ff73be5eb7c7d31c...|             174.0|           6|        29|                 6|\n",
      "|5ff73be90a720f052...|5ff73be9eb7c7d31c...|              NULL|        NULL|         0|                 0|\n",
      "|5ffc8fa40a720f05c...|5ffc8f9704929111f...|               1.0|           1|         1|                 2|\n",
      "|6000b82f0a720f05f...|6000b7aefb296c121...|             49.95|           5|        50|                 5|\n",
      "|5ff371450a7214ada...|5ff370c562fde9121...|             49.95|           5|        50|                 5|\n",
      "|601aaf710a720f05f...|601aaebde40920102...|             18.64|           4|         5|                 4|\n",
      "|5ff726810a720f052...|5ff7264e8f142f11d...|              8.68|           4|         1|                 2|\n",
      "|5ffe23560a720f05a...|59c124bae4b0299e5...|             28.57|           1|        29|              NULL|\n",
      "|60074b8e0a7214ad8...|54943462e4b07e684...|               1.0|           1|         1|                 1|\n",
      "|6011f33a0a7214ada...|6011f33173c60b180...|              20.0|           1|        20|                 1|\n",
      "+--------------------+--------------------+------------------+------------+----------+------------------+\n",
      "only showing top 20 rows\n",
      "\n"
     ]
    }
   ],
   "source": [
    "# make a QA df that checks item spend vs receipt\n",
    "# in most cases, item and receipt are part of this \n",
    "\n",
    "item_vs_receipt = (items_df\n",
    " .groupBy('receiptId')\n",
    " .agg(\n",
    "     F.sum(F.col('quantityPurchased')*F.col('finalPrice')).alias('spend_by_items'),\n",
    "     F.sum(F.col('quantityPurchased')).alias('qty_by_items')\n",
    "     )\n",
    " .join(receipts_df, items_df['receiptId'] == receipts_df['_id'], 'left'  )\n",
    " .select('receiptId', 'userId','spend_by_items', 'qty_by_items', F.col('totalSpent').cast('numeric'), F.col('purchasedItemCount').cast('numeric'))\n",
    ")\n",
    "item_vs_receipt.show()"
   ]
  },
  {
   "cell_type": "code",
   "execution_count": 7,
   "id": "81af346d-16ba-4ceb-ba5f-c59cecdab093",
   "metadata": {},
   "outputs": [
    {
     "name": "stdout",
     "output_type": "stream",
     "text": [
      "+------------------+-----------------+\n",
      "|        spend_mape|          ct_mape|\n",
      "+------------------+-----------------+\n",
      "|0.6471062354543637|0.007083825265649|\n",
      "+------------------+-----------------+\n",
      "\n"
     ]
    }
   ],
   "source": [
    "# the mape on the spend is extraordinary, ct_mape is good \n",
    "\n",
    "(item_vs_receipt\n",
    " .withColumn('spend_abs_error', (F.col('spend_by_items')-F.col('totalSpent'))/F.col('totalSpent'))\n",
    " .withColumn('ct_abs_error', (F.col('qty_by_items')-F.col('purchasedItemCount'))/F.col('purchasedItemCount'))\n",
    " .agg(F.avg('spend_abs_error').alias('spend_mape'), F.avg('ct_abs_error').alias('ct_mape'))\n",
    ").show()"
   ]
  },
  {
   "cell_type": "code",
   "execution_count": 168,
   "id": "4b2d39b1-8f4e-4676-be52-791844d17fe3",
   "metadata": {},
   "outputs": [
    {
     "name": "stdout",
     "output_type": "stream",
     "text": [
      "+--------------------+--------------------+------------------+------------+----------+------------------+\n",
      "|           receiptId|              userId|    spend_by_items|qty_by_items|totalSpent|purchasedItemCount|\n",
      "+--------------------+--------------------+------------------+------------+----------+------------------+\n",
      "|600f2fc80a720f053...|600f29a64329897ea...|20636.250000000036|         689|      4566|               689|\n",
      "|600f39c30a7214ada...|600f35015edb78209...|20378.730000000047|         670|      4722|               670|\n",
      "|600f24970a720f053...|600f20c15edb787dc...|19791.330000000013|         599|      4369|               599|\n",
      "|600f0cc70a720f053...|600f00d05edb787dc...| 9126.879999999994|         303|      2085|               303|\n",
      "|600996ac0a720f05f...|6009969150b33111f...|           4331.86|         348|      1199|               348|\n",
      "+--------------------+--------------------+------------------+------------+----------+------------------+\n",
      "\n",
      "+--------------------+--------------------+------------------+------------+----------+------------------+\n",
      "|           receiptId|              userId|    spend_by_items|qty_by_items|totalSpent|purchasedItemCount|\n",
      "+--------------------+--------------------+------------------+------------+----------+------------------+\n",
      "|600f2fc80a720f053...|600f29a64329897ea...|20636.250000000036|         689|      4566|               689|\n",
      "|600f39c30a7214ada...|600f35015edb78209...|20378.730000000047|         670|      4722|               670|\n",
      "|600f24970a720f053...|600f20c15edb787dc...|19791.330000000013|         599|      4369|               599|\n",
      "|600996ac0a720f05f...|6009969150b33111f...|           4331.86|         348|      1199|               348|\n",
      "|60099c3c0a7214ad8...|60099c1450b33111f...|3795.4400000000005|         341|      1083|               341|\n",
      "+--------------------+--------------------+------------------+------------+----------+------------------+\n",
      "\n",
      "+--------------------+--------------------+------------------+------------+----------+------------------+\n",
      "|           receiptId|              userId|    spend_by_items|qty_by_items|totalSpent|purchasedItemCount|\n",
      "+--------------------+--------------------+------------------+------------+----------+------------------+\n",
      "|600f39c30a7214ada...|600f35015edb78209...|20378.730000000047|         670|      4722|               670|\n",
      "|600f2fc80a720f053...|600f29a64329897ea...|20636.250000000036|         689|      4566|               689|\n",
      "|600f24970a720f053...|600f20c15edb787dc...|19791.330000000013|         599|      4369|               599|\n",
      "|600f0cc70a720f053...|600f00d05edb787dc...| 9126.879999999994|         303|      2085|               303|\n",
      "|600996ac0a720f05f...|6009969150b33111f...|           4331.86|         348|      1199|               348|\n",
      "+--------------------+--------------------+------------------+------------+----------+------------------+\n",
      "\n",
      "+--------------------+--------------------+------------------+------------+----------+------------------+\n",
      "|           receiptId|              userId|    spend_by_items|qty_by_items|totalSpent|purchasedItemCount|\n",
      "+--------------------+--------------------+------------------+------------+----------+------------------+\n",
      "|600f2fc80a720f053...|600f29a64329897ea...|20636.250000000036|         689|      4566|               689|\n",
      "|600f39c30a7214ada...|600f35015edb78209...|20378.730000000047|         670|      4722|               670|\n",
      "|600f24970a720f053...|600f20c15edb787dc...|19791.330000000013|         599|      4369|               599|\n",
      "|600996ac0a720f05f...|6009969150b33111f...|           4331.86|         348|      1199|               348|\n",
      "|60099c3c0a7214ad8...|60099c1450b33111f...|3795.4400000000005|         341|      1083|               341|\n",
      "+--------------------+--------------------+------------------+------------+----------+------------------+\n",
      "\n"
     ]
    }
   ],
   "source": [
    "item_vs_receipt.orderBy(F.col('spend_by_items').desc()).limit(5).show()\n",
    "item_vs_receipt.orderBy(F.col('qty_by_items').desc()).limit(5).show()\n",
    "item_vs_receipt.orderBy(F.col('totalSpent').desc()).limit(5).show()\n",
    "item_vs_receipt.orderBy(F.col('purchasedItemCount').desc()).limit(5).show()"
   ]
  },
  {
   "cell_type": "code",
   "execution_count": 10,
   "id": "e2d75e1c-9dec-4307-83d3-608e129556ff",
   "metadata": {},
   "outputs": [
    {
     "name": "stdout",
     "output_type": "stream",
     "text": [
      "+--------------------+----------+------------------+------------------+------------+----------+------------------+\n",
      "|              userId|receipt_ct|avg_spend_by_items|    spend_by_items|qty_by_items|totalSpent|purchasedItemCount|\n",
      "+--------------------+----------+------------------+------------------+------------+----------+------------------+\n",
      "|54943462e4b07e684...|        50|               2.0|             100.0|          55|       100|                55|\n",
      "|59c124bae4b0299e5...|        48|28.570000000000004|1371.3600000000001|          48|      1392|              NULL|\n",
      "|5fc961c3b8cfca11a...|        42| 33.99928571428573|1427.9700000000007|          83|      1430|                83|\n",
      "|5fa41775898c7a11a...|        21|              84.0|            1764.0|          84|      1764|                84|\n",
      "|5ff5d15aeb7c7d120...|        20|23.707500000000003|474.15000000000003|          74|       447|                74|\n",
      "+--------------------+----------+------------------+------------------+------------+----------+------------------+\n",
      "\n",
      "+--------------------+----------+------------------+------------------+------------+----------+------------------+\n",
      "|              userId|receipt_ct|avg_spend_by_items|    spend_by_items|qty_by_items|totalSpent|purchasedItemCount|\n",
      "+--------------------+----------+------------------+------------------+------------+----------+------------------+\n",
      "|600f29a64329897ea...|         1|20636.250000000036|20636.250000000036|         689|      4566|               689|\n",
      "|600f35015edb78209...|         1|20378.730000000047|20378.730000000047|         670|      4722|               670|\n",
      "|600f20c15edb787dc...|         1|19791.330000000013|19791.330000000013|         599|      4369|               599|\n",
      "|600f00d05edb787dc...|         1| 9126.879999999994| 9126.879999999994|         303|      2085|               303|\n",
      "|6009969150b33111f...|         1|           4331.86|           4331.86|         348|      1199|               348|\n",
      "+--------------------+----------+------------------+------------------+------------+----------+------------------+\n",
      "\n",
      "+--------------------+----------+------------------+------------------+------------+----------+------------------+\n",
      "|              userId|receipt_ct|avg_spend_by_items|    spend_by_items|qty_by_items|totalSpent|purchasedItemCount|\n",
      "+--------------------+----------+------------------+------------------+------------+----------+------------------+\n",
      "|600f29a64329897ea...|         1|20636.250000000036|20636.250000000036|         689|      4566|               689|\n",
      "|600f35015edb78209...|         1|20378.730000000047|20378.730000000047|         670|      4722|               670|\n",
      "|600f20c15edb787dc...|         1|19791.330000000013|19791.330000000013|         599|      4369|               599|\n",
      "|60099c1450b33111f...|         2|1931.2100000000003|3862.4200000000005|         351|      1111|               351|\n",
      "|6009969150b33111f...|         1|           4331.86|           4331.86|         348|      1199|               348|\n",
      "+--------------------+----------+------------------+------------------+------------+----------+------------------+\n",
      "\n",
      "+--------------------+----------+------------------+------------------+------------+----------+------------------+\n",
      "|              userId|receipt_ct|avg_spend_by_items|    spend_by_items|qty_by_items|totalSpent|purchasedItemCount|\n",
      "+--------------------+----------+------------------+------------------+------------+----------+------------------+\n",
      "|600f35015edb78209...|         1|20378.730000000047|20378.730000000047|         670|      4722|               670|\n",
      "|600f29a64329897ea...|         1|20636.250000000036|20636.250000000036|         689|      4566|               689|\n",
      "|600f20c15edb787dc...|         1|19791.330000000013|19791.330000000013|         599|      4369|               599|\n",
      "|600f00d05edb787dc...|         1| 9126.879999999994| 9126.879999999994|         303|      2085|               303|\n",
      "|5fa41775898c7a11a...|        21|              84.0|            1764.0|          84|      1764|                84|\n",
      "+--------------------+----------+------------------+------------------+------------+----------+------------------+\n",
      "\n",
      "+--------------------+----------+------------------+------------------+------------+----------+------------------+\n",
      "|              userId|receipt_ct|avg_spend_by_items|    spend_by_items|qty_by_items|totalSpent|purchasedItemCount|\n",
      "+--------------------+----------+------------------+------------------+------------+----------+------------------+\n",
      "|600f29a64329897ea...|         1|20636.250000000036|20636.250000000036|         689|      4566|               689|\n",
      "|600f35015edb78209...|         1|20378.730000000047|20378.730000000047|         670|      4722|               670|\n",
      "|600f20c15edb787dc...|         1|19791.330000000013|19791.330000000013|         599|      4369|               599|\n",
      "|60099c1450b33111f...|         2|1931.2100000000003|3862.4200000000005|         351|      1111|               351|\n",
      "|6009969150b33111f...|         1|           4331.86|           4331.86|         348|      1199|               348|\n",
      "+--------------------+----------+------------------+------------------+------------+----------+------------------+\n",
      "\n"
     ]
    }
   ],
   "source": [
    "# check if there are large users\n",
    "\n",
    "user_item_vs_receipt = item_vs_receipt.groupBy('userId').agg(\n",
    "    F.countDistinct('receiptId').alias('receipt_ct'),\n",
    "    F.avg('spend_by_items').alias('avg_spend_by_items'),\n",
    "    F.sum('spend_by_items').alias('spend_by_items'),\n",
    "    F.sum('qty_by_items').alias('qty_by_items'),\n",
    "    F.sum('totalSpent').alias('totalSpent'),\n",
    "    F.sum('purchasedItemCount').alias('purchasedItemCount')\n",
    ")\n",
    "\n",
    "user_item_vs_receipt.orderBy(F.col('receipt_ct').desc()).limit(5).show()\n",
    "user_item_vs_receipt.orderBy(F.col('spend_by_items').desc()).limit(5).show()\n",
    "user_item_vs_receipt.orderBy(F.col('qty_by_items').desc()).limit(5).show()\n",
    "user_item_vs_receipt.orderBy(F.col('totalSpent').desc()).limit(5).show()\n",
    "user_item_vs_receipt.orderBy(F.col('purchasedItemCount').desc()).limit(5).show()"
   ]
  },
  {
   "cell_type": "code",
   "execution_count": 122,
   "id": "0704b9f4-f6f6-4de6-b245-1e473de33718",
   "metadata": {},
   "outputs": [
    {
     "name": "stderr",
     "output_type": "stream",
     "text": [
      "                                                                                \r"
     ]
    },
    {
     "name": "stdout",
     "output_type": "stream",
     "text": [
      "{'data_types': {'_id': 'string',\n",
      "                'bonusPointsEarned': 'bigint',\n",
      "                'bonusPointsEarnedReason': 'string',\n",
      "                'createDate': 'string',\n",
      "                'dateScanned': 'string',\n",
      "                'finishedDate': 'string',\n",
      "                'modifyDate': 'string',\n",
      "                'pointsAwardedDate': 'string',\n",
      "                'pointsEarned': 'string',\n",
      "                'purchaseDate': 'string',\n",
      "                'purchasedItemCount': 'bigint',\n",
      "                'rewardsReceiptStatus': 'string',\n",
      "                'totalSpent': 'string',\n",
      "                'userId': 'string'},\n",
      " 'duplicates': 0,\n",
      " 'nulls': {'_id': 0,\n",
      "           'bonusPointsEarned': 575,\n",
      "           'bonusPointsEarnedReason': 575,\n",
      "           'createDate': 0,\n",
      "           'dateScanned': 0,\n",
      "           'finishedDate': 551,\n",
      "           'modifyDate': 0,\n",
      "           'pointsAwardedDate': 582,\n",
      "           'pointsEarned': 510,\n",
      "           'purchaseDate': 448,\n",
      "           'purchasedItemCount': 484,\n",
      "           'rewardsReceiptStatus': 0,\n",
      "           'totalSpent': 435,\n",
      "           'userId': 0},\n",
      " 'summary_stats': {'bonusPointsEarned': [Row(summary='count', bonusPointsEarned='544'),\n",
      "                                         Row(summary='mean', bonusPointsEarned='238.8933823529412'),\n",
      "                                         Row(summary='stddev', bonusPointsEarned='299.0917307140747'),\n",
      "                                         Row(summary='min', bonusPointsEarned='5'),\n",
      "                                         Row(summary='max', bonusPointsEarned='750')],\n",
      "                   'purchasedItemCount': [Row(summary='count', purchasedItemCount='635'),\n",
      "                                          Row(summary='mean', purchasedItemCount='14.75748031496063'),\n",
      "                                          Row(summary='stddev', purchasedItemCount='61.13424040673156'),\n",
      "                                          Row(summary='min', purchasedItemCount='0'),\n",
      "                                          Row(summary='max', purchasedItemCount='689')]},\n",
      " 'total_count': 1119,\n",
      " 'uniqueness': {'_id': True,\n",
      "                'bonusPointsEarned': False,\n",
      "                'bonusPointsEarnedReason': False,\n",
      "                'createDate': False,\n",
      "                'dateScanned': False,\n",
      "                'finishedDate': False,\n",
      "                'modifyDate': False,\n",
      "                'pointsAwardedDate': False,\n",
      "                'pointsEarned': False,\n",
      "                'purchaseDate': False,\n",
      "                'purchasedItemCount': False,\n",
      "                'rewardsReceiptStatus': False,\n",
      "                'totalSpent': False,\n",
      "                'userId': False}}\n"
     ]
    }
   ],
   "source": [
    "# bottom-up check for receipts\n",
    "pprint(basic_checks(receipts_df))"
   ]
  },
  {
   "cell_type": "code",
   "execution_count": 133,
   "id": "91db2837-a4d4-45e9-b6dd-013701216f08",
   "metadata": {},
   "outputs": [
    {
     "name": "stdout",
     "output_type": "stream",
     "text": [
      "+-------------------+--------+\n",
      "|              month|count(1)|\n",
      "+-------------------+--------+\n",
      "|2021-01-01 00:00:00|     640|\n",
      "|2021-03-01 00:00:00|      23|\n",
      "|2020-10-01 00:00:00|       2|\n",
      "|2020-11-01 00:00:00|       6|\n",
      "|2021-02-01 00:00:00|     448|\n",
      "+-------------------+--------+\n",
      "\n"
     ]
    }
   ],
   "source": [
    "# data seems to be inconsistent month by month\n",
    "receipts_df.select(F.date_trunc('month', F.col('dateScanned')).alias('month')).groupBy('month').agg(F.count('*')).show()"
   ]
  },
  {
   "cell_type": "code",
   "execution_count": 13,
   "id": "a3745224-0ff8-46a4-828c-8f6976a804c9",
   "metadata": {},
   "outputs": [
    {
     "name": "stdout",
     "output_type": "stream",
     "text": [
      "{'data_types': {'_id': 'string',\n",
      "                'barcode': 'string',\n",
      "                'brandCode': 'string',\n",
      "                'category': 'string',\n",
      "                'categoryCode': 'string',\n",
      "                'cpgId': 'string',\n",
      "                'name': 'string',\n",
      "                'topBrand': 'boolean'},\n",
      " 'duplicates': 0,\n",
      " 'nulls': {'_id': 0,\n",
      "           'barcode': 0,\n",
      "           'brandCode': 234,\n",
      "           'category': 155,\n",
      "           'categoryCode': 650,\n",
      "           'cpgId': 0,\n",
      "           'name': 0,\n",
      "           'topBrand': 612},\n",
      " 'summary_stats': {},\n",
      " 'total_count': 1167,\n",
      " 'uniqueness': {'_id': True,\n",
      "                'barcode': False,\n",
      "                'brandCode': False,\n",
      "                'category': False,\n",
      "                'categoryCode': False,\n",
      "                'cpgId': False,\n",
      "                'name': False,\n",
      "                'topBrand': False}}\n"
     ]
    }
   ],
   "source": [
    "# bottom up check for brands df\n",
    "pprint(basic_checks(brands_df))"
   ]
  },
  {
   "cell_type": "code",
   "execution_count": 25,
   "id": "d8020615-199b-412f-9985-9f32e021a894",
   "metadata": {},
   "outputs": [
    {
     "name": "stdout",
     "output_type": "stream",
     "text": [
      "+--------------------+--------------------+---+\n",
      "|           brandCode|                name| ct|\n",
      "+--------------------+--------------------+---+\n",
      "|             HUGGIES|             Huggies|  2|\n",
      "|TEST BRANDCODE @1...|test brand @15973...|  1|\n",
      "|TEST BRANDCODE @1...|test brand @16079...|  1|\n",
      "|             MATADOR|      Matador Snacks|  1|\n",
      "|TEST BRANDCODE @1...|test brand @15973...|  1|\n",
      "|TEST BRANDCODE @1...|test brand @15990...|  1|\n",
      "|TEST BRANDCODE @1...|test brand @16105...|  1|\n",
      "|        MOUNTAIN DEW|        Mountain Dew|  1|\n",
      "|                NULL|             Palermo|  1|\n",
      "|        511111805137|         Real Simple|  1|\n",
      "|TEST BRANDCODE @1...|test brand @16104...|  1|\n",
      "|     FRUITY CHEERIOS|    Fruity Cheerios™|  1|\n",
      "|TEST BRANDCODE @1...|test brand @16100...|  1|\n",
      "|            KOOL-AID|            Kool-Aid|  1|\n",
      "|                NULL|              Corona|  1|\n",
      "|                    |        Kraft Cheese|  1|\n",
      "|        511111105046|Food & Wine Magazine|  1|\n",
      "|            CHESTERS|           CHESTER'S|  1|\n",
      "|TEST BRANDCODE @1...|test brand @16106...|  1|\n",
      "|TEST BRANDCODE @1...|test brand @15975...|  1|\n",
      "+--------------------+--------------------+---+\n",
      "only showing top 20 rows\n",
      "\n"
     ]
    },
    {
     "name": "stderr",
     "output_type": "stream",
     "text": [
      "                                                                                \r"
     ]
    }
   ],
   "source": [
    "# check for dupes of brandCode and name\n",
    "brands_df.groupBy('brandCode','name').agg(F.count('*').alias('ct')).orderBy(F.col('ct').desc()).show()"
   ]
  },
  {
   "cell_type": "code",
   "execution_count": 134,
   "id": "adadd072-7f55-4f14-99aa-d478bf2a4802",
   "metadata": {},
   "outputs": [
    {
     "name": "stdout",
     "output_type": "stream",
     "text": [
      "+--------+-------+\n",
      "|count(1)|test_ct|\n",
      "+--------+-------+\n",
      "|    1167|    432|\n",
      "+--------+-------+\n",
      "\n"
     ]
    }
   ],
   "source": [
    "# how many brands are test items?\n",
    "brands_df.select(F.count('*'),F.sum(F.when(F.lower(F.col('name')).rlike('test'), 1).otherwise(0)).alias('test_ct')).show()"
   ]
  },
  {
   "cell_type": "code",
   "execution_count": 124,
   "id": "8e20dedd-98f0-4588-bea7-bccae40928df",
   "metadata": {},
   "outputs": [
    {
     "name": "stdout",
     "output_type": "stream",
     "text": [
      "{'data_types': {'_id': 'string',\n",
      "                'active': 'boolean',\n",
      "                'createdDate': 'string',\n",
      "                'lastLogin': 'string',\n",
      "                'role': 'string',\n",
      "                'signUpSource': 'string',\n",
      "                'state': 'string'},\n",
      " 'duplicates': 0,\n",
      " 'nulls': {'_id': 0,\n",
      "           'active': 0,\n",
      "           'createdDate': 0,\n",
      "           'lastLogin': 40,\n",
      "           'role': 0,\n",
      "           'signUpSource': 5,\n",
      "           'state': 6},\n",
      " 'summary_stats': {},\n",
      " 'total_count': 212,\n",
      " 'uniqueness': {'_id': True,\n",
      "                'active': False,\n",
      "                'createdDate': True,\n",
      "                'lastLogin': False,\n",
      "                'role': False,\n",
      "                'signUpSource': False,\n",
      "                'state': False}}\n"
     ]
    }
   ],
   "source": [
    "# bottom up QA for users\n",
    "pprint(basic_checks(users_df))"
   ]
  },
  {
   "cell_type": "code",
   "execution_count": 126,
   "id": "9ec93a2d-9b1b-4b82-ac2e-48b08ef5fae2",
   "metadata": {},
   "outputs": [
    {
     "name": "stdout",
     "output_type": "stream",
     "text": [
      "+--------------------+------+-------------------+---------+--------+------------+-----+\n",
      "|                 _id|active|        createdDate|lastLogin|    role|signUpSource|state|\n",
      "+--------------------+------+-------------------+---------+--------+------------+-----+\n",
      "|6002541ae257124ec...|  true|2021-01-15 21:48:58|     NULL|consumer|       Email|   WI|\n",
      "|6008896c633aab121...|  true|2021-01-20 14:50:04|     NULL|consumer|       Email|   WI|\n",
      "|600f19914329897ea...|  true|2021-01-25 14:18:41|     NULL|consumer|       Email|   WI|\n",
      "|5ffe115404929101d...|  true|2021-01-12 16:15:00|     NULL|consumer|       Email|   AL|\n",
      "|600498c4e257124ec...|  true|2021-01-17 15:06:29|     NULL|consumer|       Email|   WI|\n",
      "|600b477e7d983a124...|  true|2021-01-22 16:45:34|     NULL|consumer|       Email|   WI|\n",
      "|600eea525edb7811c...|  true|2021-01-25 10:57:07|     NULL|consumer|       Email|   WI|\n",
      "|60186237c8b50e11d...|  true|2021-02-01 15:19:03|     NULL|consumer|       Email| NULL|\n",
      "|600258dafb296c4ef...|  true|2021-01-15 22:09:14|     NULL|consumer|       Email|   WI|\n",
      "|60025fe0e257124ec...|  true|2021-01-15 22:39:13|     NULL|consumer|       Email|   WI|\n",
      "|60037005e257124ec...|  true|2021-01-16 18:00:21|     NULL|consumer|       Email|   WI|\n",
      "|5e27526d0bdb6a138...|  true|2020-01-21 14:35:09|     NULL|consumer|      Google|   WI|\n",
      "|6008d447b6310511d...|  true|2021-01-20 20:09:27|     NULL|consumer|       Email|   WI|\n",
      "|600f20c15edb787dc...|  true|2021-01-25 14:49:21|     NULL|consumer|       Email|   WI|\n",
      "|60099c1450b33111f...|  true|2021-01-21 10:21:56|     NULL|consumer|       Email|   WI|\n",
      "|600a03e17d983a124...|  true|2021-01-21 17:44:49|     NULL|consumer|       Email|   WI|\n",
      "|6004a5d3fb296c4ef...|  true|2021-01-17 16:02:11|     NULL|consumer|       Email|   WI|\n",
      "|600f00d05edb787dc...|  true|2021-01-25 12:33:04|     NULL|consumer|       Email|   WI|\n",
      "|6008e9cdb6310511d...|  true|2021-01-20 21:41:17|     NULL|consumer|       Email|   IL|\n",
      "|60183e6c9a1b09120...|  true|2021-02-01 12:46:20|     NULL|consumer|       Email|   SC|\n",
      "+--------------------+------+-------------------+---------+--------+------------+-----+\n",
      "only showing top 20 rows\n",
      "\n"
     ]
    }
   ],
   "source": [
    "# why are last logins Null?\n",
    "users_df.where(F.col('lastLogin').isNull()).show()"
   ]
  }
 ],
 "metadata": {
  "kernelspec": {
   "display_name": "Python 3 (ipykernel)",
   "language": "python",
   "name": "python3"
  },
  "language_info": {
   "codemirror_mode": {
    "name": "ipython",
    "version": 3
   },
   "file_extension": ".py",
   "mimetype": "text/x-python",
   "name": "python",
   "nbconvert_exporter": "python",
   "pygments_lexer": "ipython3",
   "version": "3.12.4"
  }
 },
 "nbformat": 4,
 "nbformat_minor": 5
}
